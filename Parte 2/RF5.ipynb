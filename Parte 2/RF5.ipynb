{
 "cells": [
  {
   "cell_type": "markdown",
   "id": "eb60d4aabaa0e6f9",
   "metadata": {},
   "source": [
    "Fundamentos de ciência de dados - Luiz Davi e Thiago Cavalcanti"
   ]
  },
  {
   "cell_type": "code",
   "execution_count": 1,
   "id": "e4d3bc919e3bbddd",
   "metadata": {
    "ExecuteTime": {
     "end_time": "2025-01-29T23:27:22.385024Z",
     "start_time": "2025-01-29T23:27:21.974711Z"
    }
   },
   "outputs": [],
   "source": [
    "from nba_api_jogadores_utils import calcular_medias_jogador, calcular_porcentagem_abaixo_media\n",
    "from constantes_jogadores import JOGADOR_1, JOGADOR_2, JOGADOR_3"
   ]
  },
  {
   "cell_type": "markdown",
   "id": "7a33c8b096f7903",
   "metadata": {},
   "source": [
    "# RF5 - Apresentar e calcular a média de pontos, rebotes e assistências dos jogadores"
   ]
  },
  {
   "cell_type": "markdown",
   "id": "0b5c5e05",
   "metadata": {},
   "source": [
    "### Nikola Jokić"
   ]
  },
  {
   "cell_type": "code",
   "execution_count": 2,
   "id": "1e1036d4",
   "metadata": {},
   "outputs": [
    {
     "name": "stdout",
     "output_type": "stream",
     "text": [
      "📊 Estatísticas de Nikola Jokić:\n",
      "   🏀 Média de pontos por jogo: 29.68\n",
      "   🔄 Média de rebotes por jogo: 12.93\n",
      "   🎯 Média de assistências por jogo: 10.07\n",
      "----------------------------------------\n"
     ]
    }
   ],
   "source": [
    "dados_jogadores_path = '../resultados/parte_2/rf2_estatisticas_jogadores.csv'\n",
    "nikola_media_pontos, nikola_media_rebotes, nikola_media_assistencias = calcular_medias_jogador(JOGADOR_1, dados_jogadores_path)"
   ]
  },
  {
   "cell_type": "markdown",
   "id": "98149423",
   "metadata": {},
   "source": [
    "### Michael Porter Jr."
   ]
  },
  {
   "cell_type": "code",
   "execution_count": 3,
   "id": "d0795928",
   "metadata": {},
   "outputs": [
    {
     "name": "stdout",
     "output_type": "stream",
     "text": [
      "📊 Estatísticas de Michael Porter Jr.:\n",
      "   🏀 Média de pontos por jogo: 17.91\n",
      "   🔄 Média de rebotes por jogo: 6.34\n",
      "   🎯 Média de assistências por jogo: 2.21\n",
      "----------------------------------------\n"
     ]
    }
   ],
   "source": [
    "dados_jogadores_path = '../resultados/parte_2/rf2_estatisticas_jogadores.csv'\n",
    "michael_media_pontos, michael_media_rebotes, michael_media_assistencias = calcular_medias_jogador(JOGADOR_2, dados_jogadores_path)"
   ]
  },
  {
   "cell_type": "markdown",
   "id": "9ea5f2bb",
   "metadata": {},
   "source": [
    "### Jamal Murray"
   ]
  },
  {
   "cell_type": "code",
   "execution_count": 4,
   "id": "23a16231",
   "metadata": {},
   "outputs": [
    {
     "name": "stdout",
     "output_type": "stream",
     "text": [
      "📊 Estatísticas de Jamal Murray:\n",
      "   🏀 Média de pontos por jogo: 20.15\n",
      "   🔄 Média de rebotes por jogo: 4.05\n",
      "   🎯 Média de assistências por jogo: 5.98\n",
      "----------------------------------------\n"
     ]
    }
   ],
   "source": [
    "dados_jogadores_path = '../resultados/parte_2/rf2_estatisticas_jogadores.csv'\n",
    "jamal_media_pontos, jamal_media_rebotes, jamal_media_assistencias = calcular_medias_jogador(JOGADOR_3, dados_jogadores_path)"
   ]
  },
  {
   "cell_type": "markdown",
   "id": "87b32caf",
   "metadata": {},
   "source": [
    "### RF5 – A – Apresentar ao usuário a porcentagem de pontos, rebotes e assistências abaixo da média"
   ]
  },
  {
   "cell_type": "code",
   "execution_count": 5,
   "id": "d7ad4bea065088c9",
   "metadata": {
    "ExecuteTime": {
     "end_time": "2025-01-29T23:28:08.927658Z",
     "start_time": "2025-01-29T23:28:04.384321Z"
    }
   },
   "outputs": [
    {
     "name": "stdout",
     "output_type": "stream",
     "text": [
      "📉 Estatísticas de Nikola Jokić abaixo da média:\n",
      "   ❌ 53.66% dos jogos com pontos abaixo da média (29.68)\n",
      "   ❌ 43.90% dos jogos com rebotes abaixo da média (12.93)\n",
      "   ❌ 58.54% dos jogos com assistências abaixo da média (10.07)\n",
      "----------------------------------------\n"
     ]
    }
   ],
   "source": [
    "calcular_porcentagem_abaixo_media(JOGADOR_1, nikola_media_pontos, nikola_media_rebotes, nikola_media_assistencias, dados_jogadores_path)"
   ]
  },
  {
   "cell_type": "code",
   "execution_count": 6,
   "id": "1a62f940",
   "metadata": {},
   "outputs": [
    {
     "name": "stdout",
     "output_type": "stream",
     "text": [
      "📉 Estatísticas de Michael Porter Jr. abaixo da média:\n",
      "   ❌ 44.68% dos jogos com pontos abaixo da média (17.91)\n",
      "   ❌ 55.32% dos jogos com rebotes abaixo da média (6.34)\n",
      "   ❌ 61.70% dos jogos com assistências abaixo da média (2.21)\n",
      "----------------------------------------\n"
     ]
    }
   ],
   "source": [
    "calcular_porcentagem_abaixo_media(JOGADOR_2, michael_media_pontos, michael_media_rebotes, michael_media_assistencias, dados_jogadores_path)"
   ]
  },
  {
   "cell_type": "code",
   "execution_count": 7,
   "id": "110b5152",
   "metadata": {},
   "outputs": [
    {
     "name": "stdout",
     "output_type": "stream",
     "text": [
      "📉 Estatísticas de Jamal Murray abaixo da média:\n",
      "   ❌ 58.54% dos jogos com pontos abaixo da média (20.15)\n",
      "   ❌ 60.98% dos jogos com rebotes abaixo da média (4.05)\n",
      "   ❌ 39.02% dos jogos com assistências abaixo da média (5.98)\n",
      "----------------------------------------\n"
     ]
    }
   ],
   "source": [
    "calcular_porcentagem_abaixo_media(JOGADOR_3, jamal_media_pontos, jamal_media_rebotes, jamal_media_assistencias, dados_jogadores_path)"
   ]
  }
 ],
 "metadata": {
  "kernelspec": {
   "display_name": "venv",
   "language": "python",
   "name": "python3"
  },
  "language_info": {
   "codemirror_mode": {
    "name": "ipython",
    "version": 3
   },
   "file_extension": ".py",
   "mimetype": "text/x-python",
   "name": "python",
   "nbconvert_exporter": "python",
   "pygments_lexer": "ipython3",
   "version": "3.10.0rc2"
  }
 },
 "nbformat": 5,
 "nbformat_minor": 9
}
