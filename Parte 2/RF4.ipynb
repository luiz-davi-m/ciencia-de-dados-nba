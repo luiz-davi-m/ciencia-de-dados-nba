{
 "cells": [
  {
   "cell_type": "markdown",
   "id": "eb60d4aabaa0e6f9",
   "metadata": {},
   "source": [
    "Fundamentos de ciência de dados - Luiz Davi e Thiago Cavalcanti"
   ]
  },
  {
   "cell_type": "code",
   "execution_count": 1,
   "id": "e4d3bc919e3bbddd",
   "metadata": {
    "ExecuteTime": {
     "end_time": "2025-01-29T23:27:22.385024Z",
     "start_time": "2025-01-29T23:27:21.974711Z"
    }
   },
   "outputs": [],
   "source": [
    "from nba_api_utils import obter_informacoes_do_time, calcular_jogos_casa_fora\n",
    "from constantes_jogadores import NOME_TIME"
   ]
  },
  {
   "cell_type": "markdown",
   "id": "7a33c8b096f7903",
   "metadata": {},
   "source": [
    "# RF4 - O sistema deve apresentar a quantidade de jogos realizados dentro e fora de casa e a quantidade de jogos dentro e fora de casa contra um determinado time [da escolha do usuário]."
   ]
  },
  {
   "cell_type": "code",
   "execution_count": null,
   "id": "d7ad4bea065088c9",
   "metadata": {
    "ExecuteTime": {
     "end_time": "2025-01-29T23:28:08.927658Z",
     "start_time": "2025-01-29T23:28:04.384321Z"
    }
   },
   "outputs": [
    {
     "name": "stdout",
     "output_type": "stream",
     "text": [
      "\n",
      "🆚 Contra Atlanta Hawks (ATL):\n",
      "🏠 Jogos em casa: 1\n",
      "🛫 Jogos fora de casa: 1\n"
     ]
    }
   ],
   "source": [
    "oponente_nome = input(\"Digite o nome do time adversário: \")\n",
    "oponente = obter_informacoes_do_time(oponente_nome)\n",
    "\n",
    "if oponente is None:\n",
    "    print(\"Time não encontrado. Verifique o nome e tente novamente.\")\n",
    "else:\n",
    "    calcular_jogos_casa_fora(NOME_TIME, oponente, \"2024-25\")"
   ]
  }
 ],
 "metadata": {
  "kernelspec": {
   "display_name": "Python 3",
   "language": "python",
   "name": "python3"
  },
  "language_info": {
   "codemirror_mode": {
    "name": "ipython",
    "version": 3
   },
   "file_extension": ".py",
   "mimetype": "text/x-python",
   "name": "python",
   "nbconvert_exporter": "python",
   "pygments_lexer": "ipython3",
   "version": "3.11.8"
  }
 },
 "nbformat": 5,
 "nbformat_minor": 9
}
