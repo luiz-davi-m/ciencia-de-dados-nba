{
 "cells": [
  {
   "metadata": {},
   "cell_type": "markdown",
   "source": "Fundamentos de ciência de dados - Luiz Davi e Thiago Cavalcanti",
   "id": "eb60d4aabaa0e6f9"
  },
  {
   "metadata": {
    "ExecuteTime": {
     "end_time": "2025-01-29T23:27:22.385024Z",
     "start_time": "2025-01-29T23:27:21.974711Z"
    }
   },
   "cell_type": "code",
   "source": "from nba_api_utils import salvar_dataset_csv, get_team_info, calcular_jogos_casa_fora",
   "id": "e4d3bc919e3bbddd",
   "outputs": [],
   "execution_count": 1
  },
  {
   "metadata": {},
   "cell_type": "markdown",
   "source": "# RF4 - O sistema deve apresentar a quantidade de jogos realizados dentro e fora de casa e a quantidade de jogos dentro e fora de casa contra um determinado time [da escolha do usuário].",
   "id": "7a33c8b096f7903"
  },
  {
   "metadata": {
    "ExecuteTime": {
     "end_time": "2025-01-29T23:28:08.927658Z",
     "start_time": "2025-01-29T23:28:04.384321Z"
    }
   },
   "cell_type": "code",
   "source": [
    "oponente_nome = input(\"Digite o nome do time adversário: \")\n",
    "oponente = get_team_info(oponente_nome)\n",
    "\n",
    "if oponente is None:\n",
    "    print(\"Time não encontrado. Verifique o nome e tente novamente.\")\n",
    "else:\n",
    "    calcular_jogos_casa_fora(oponente, \"2024-25\")"
   ],
   "id": "d7ad4bea065088c9",
   "outputs": [
    {
     "name": "stdout",
     "output_type": "stream",
     "text": [
      "\n",
      "🆚 Contra Atlanta Hawks (ATL):\n",
      "🏠 Jogos em casa: 1\n",
      "🛫 Jogos fora de casa: 1\n"
     ]
    }
   ],
   "execution_count": 4
  }
 ],
 "metadata": {
  "kernelspec": {
   "name": "python3",
   "language": "python",
   "display_name": "Python 3 (ipykernel)"
  }
 },
 "nbformat": 5,
 "nbformat_minor": 9
}
