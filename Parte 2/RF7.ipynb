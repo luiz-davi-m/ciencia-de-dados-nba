{
 "cells": [
  {
   "cell_type": "markdown",
   "id": "eb60d4aabaa0e6f9",
   "metadata": {},
   "source": [
    "Fundamentos de ciência de dados - Luiz Davi e Thiago Cavalcanti"
   ]
  },
  {
   "cell_type": "code",
   "execution_count": 1,
   "id": "e4d3bc919e3bbddd",
   "metadata": {
    "ExecuteTime": {
     "end_time": "2025-01-29T23:27:22.385024Z",
     "start_time": "2025-01-29T23:27:21.974711Z"
    }
   },
   "outputs": [],
   "source": [
    "from nba_api_jogadores_utils import calcular_moda_jogador, calcular_frequencia_moda, calcular_percentual_abaixo_da_moda\n",
    "from constantes_jogadores import JOGADOR_1, JOGADOR_2, JOGADOR_3"
   ]
  },
  {
   "cell_type": "markdown",
   "id": "7a33c8b096f7903",
   "metadata": {},
   "source": [
    "# RF7 – Apresentar e calcular a moda de pontos, rebotes e assistências dos jogadores. Exibir a quantidade de vezes que a moda aparece para cada item [pontos, rebotes e assistências]."
   ]
  },
  {
   "cell_type": "markdown",
   "id": "0b5c5e05",
   "metadata": {},
   "source": [
    "### Nikola Jokić"
   ]
  },
  {
   "cell_type": "code",
   "execution_count": 2,
   "id": "1e1036d4",
   "metadata": {},
   "outputs": [
    {
     "name": "stdout",
     "output_type": "stream",
     "text": [
      "📊 Moda de Nikola Jokić:\n",
      "   🔸 Moda de pontos: 27\n",
      "   🔸 Moda de rebotes: 14\n",
      "   🔸 Moda de assistências: 10\n",
      "----------------------------------------\n",
      "📊 Frequência da Moda de Nikola Jokić:\n",
      "   🔹 A moda de pontos (27) aparece 5 vezes\n",
      "   🔹 A moda de rebotes (14) aparece 7 vezes\n",
      "   🔹 A moda de assistências (10) aparece 7 vezes\n",
      "----------------------------------------\n"
     ]
    }
   ],
   "source": [
    "dados_jogadores_path = '../resultados/parte_2/rf2_estatisticas_jogadores.csv'\n",
    "nikola_moda_pontos, nikola_moda_rebotes, nikola_moda_assistencias = calcular_moda_jogador(JOGADOR_1, dados_jogadores_path)\n",
    "\n",
    "calcular_frequencia_moda(JOGADOR_1, nikola_moda_pontos, nikola_moda_rebotes, nikola_moda_assistencias, dados_jogadores_path)"
   ]
  },
  {
   "cell_type": "markdown",
   "id": "98149423",
   "metadata": {},
   "source": [
    "### Michael Porter Jr."
   ]
  },
  {
   "cell_type": "code",
   "execution_count": 3,
   "id": "d0795928",
   "metadata": {},
   "outputs": [
    {
     "name": "stdout",
     "output_type": "stream",
     "text": [
      "📊 Moda de Michael Porter Jr.:\n",
      "   🔸 Moda de pontos: 24\n",
      "   🔸 Moda de rebotes: 6\n",
      "   🔸 Moda de assistências: 2\n",
      "----------------------------------------\n",
      "📊 Frequência da Moda de Michael Porter Jr.:\n",
      "   🔹 A moda de pontos (24) aparece 6 vezes\n",
      "   🔹 A moda de rebotes (6) aparece 9 vezes\n",
      "   🔹 A moda de assistências (2) aparece 15 vezes\n",
      "----------------------------------------\n"
     ]
    }
   ],
   "source": [
    "dados_jogadores_path = '../resultados/parte_2/rf2_estatisticas_jogadores.csv'\n",
    "michael_moda_pontos, michael_moda_rebotes, michael_moda_assistencias = calcular_moda_jogador(JOGADOR_2, dados_jogadores_path)\n",
    "\n",
    "calcular_frequencia_moda(JOGADOR_2, michael_moda_pontos, michael_moda_rebotes, michael_moda_assistencias, dados_jogadores_path)"
   ]
  },
  {
   "cell_type": "markdown",
   "id": "9ea5f2bb",
   "metadata": {},
   "source": [
    "### Jamal Murray"
   ]
  },
  {
   "cell_type": "code",
   "execution_count": 4,
   "id": "23a16231",
   "metadata": {},
   "outputs": [
    {
     "name": "stdout",
     "output_type": "stream",
     "text": [
      "📊 Moda de Jamal Murray:\n",
      "   🔸 Moda de pontos: 18\n",
      "   🔸 Moda de rebotes: 4\n",
      "   🔸 Moda de assistências: 6\n",
      "----------------------------------------\n",
      "📊 Frequência da Moda de Jamal Murray:\n",
      "   🔹 A moda de pontos (18) aparece 4 vezes\n",
      "   🔹 A moda de rebotes (4) aparece 9 vezes\n",
      "   🔹 A moda de assistências (6) aparece 10 vezes\n",
      "----------------------------------------\n"
     ]
    }
   ],
   "source": [
    "dados_jogadores_path = '../resultados/parte_2/rf2_estatisticas_jogadores.csv'\n",
    "jamal_moda_pontos, jamal_moda_rebotes, jamal_moda_assistencias = calcular_moda_jogador(JOGADOR_3, dados_jogadores_path)\n",
    "\n",
    "calcular_frequencia_moda(JOGADOR_3, jamal_moda_pontos, jamal_moda_rebotes, jamal_moda_assistencias, dados_jogadores_path)"
   ]
  },
  {
   "cell_type": "markdown",
   "id": "87b32caf",
   "metadata": {},
   "source": [
    "### RF7 – A – Apresentar ao usuário a porcentagem de pontos, rebotes e assistências baixo da média"
   ]
  },
  {
   "cell_type": "code",
   "execution_count": 6,
   "id": "d7ad4bea065088c9",
   "metadata": {
    "ExecuteTime": {
     "end_time": "2025-01-29T23:28:08.927658Z",
     "start_time": "2025-01-29T23:28:04.384321Z"
    }
   },
   "outputs": [
    {
     "name": "stdout",
     "output_type": "stream",
     "text": [
      "📊 Percentual de Jogos Abaixo da Moda - Nikola Jokić:\n",
      "   🔹 Pontos: 34.15% dos jogos\n",
      "   🔹 Rebotes: 51.22% dos jogos\n",
      "   🔹 Assistências: 41.46% dos jogos\n",
      "----------------------------------------\n"
     ]
    }
   ],
   "source": [
    "calcular_percentual_abaixo_da_moda(JOGADOR_1, nikola_moda_pontos, nikola_moda_rebotes, nikola_moda_assistencias, dados_jogadores_path)"
   ]
  },
  {
   "cell_type": "code",
   "execution_count": 7,
   "id": "1a62f940",
   "metadata": {},
   "outputs": [
    {
     "name": "stdout",
     "output_type": "stream",
     "text": [
      "📊 Percentual de Jogos Abaixo da Moda - Michael Porter Jr.:\n",
      "   🔹 Pontos: 78.72% dos jogos\n",
      "   🔹 Rebotes: 36.17% dos jogos\n",
      "   🔹 Assistências: 29.79% dos jogos\n",
      "----------------------------------------\n"
     ]
    }
   ],
   "source": [
    "calcular_percentual_abaixo_da_moda(JOGADOR_2, michael_moda_pontos, michael_moda_rebotes, michael_moda_assistencias, dados_jogadores_path)"
   ]
  },
  {
   "cell_type": "code",
   "execution_count": 8,
   "id": "110b5152",
   "metadata": {},
   "outputs": [
    {
     "name": "stdout",
     "output_type": "stream",
     "text": [
      "📊 Percentual de Jogos Abaixo da Moda - Jamal Murray:\n",
      "   🔹 Pontos: 34.15% dos jogos\n",
      "   🔹 Rebotes: 39.02% dos jogos\n",
      "   🔹 Assistências: 39.02% dos jogos\n",
      "----------------------------------------\n"
     ]
    }
   ],
   "source": [
    "calcular_percentual_abaixo_da_moda(JOGADOR_3, jamal_moda_pontos, jamal_moda_rebotes, jamal_moda_assistencias, dados_jogadores_path)"
   ]
  }
 ],
 "metadata": {
  "kernelspec": {
   "display_name": "venv",
   "language": "python",
   "name": "python3"
  },
  "language_info": {
   "codemirror_mode": {
    "name": "ipython",
    "version": 3
   },
   "file_extension": ".py",
   "mimetype": "text/x-python",
   "name": "python",
   "nbconvert_exporter": "python",
   "pygments_lexer": "ipython3",
   "version": "3.10.0rc2"
  }
 },
 "nbformat": 5,
 "nbformat_minor": 9
}
