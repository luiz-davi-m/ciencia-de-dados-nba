{
 "cells": [
  {
   "cell_type": "markdown",
   "id": "eb60d4aabaa0e6f9",
   "metadata": {},
   "source": [
    "Fundamentos de ciência de dados - Luiz Davi e Thiago Cavalcanti"
   ]
  },
  {
   "cell_type": "code",
   "execution_count": 1,
   "id": "e4d3bc919e3bbddd",
   "metadata": {
    "ExecuteTime": {
     "end_time": "2025-01-29T23:27:22.385024Z",
     "start_time": "2025-01-29T23:27:21.974711Z"
    }
   },
   "outputs": [],
   "source": [
    "from nba_api_jogadores_utils import calcular_medianas_jogador, calcular_porcentagem_abaixo_mediana\n",
    "from constantes_jogadores import JOGADOR_1, JOGADOR_2, JOGADOR_3"
   ]
  },
  {
   "cell_type": "markdown",
   "id": "7a33c8b096f7903",
   "metadata": {},
   "source": [
    "# RF6 - Apresentar e calcular a mediana de pontos, rebotes e assistências dos jogadores."
   ]
  },
  {
   "cell_type": "markdown",
   "id": "0b5c5e05",
   "metadata": {},
   "source": [
    "### Nikola Jokić"
   ]
  },
  {
   "cell_type": "code",
   "execution_count": 2,
   "id": "1e1036d4",
   "metadata": {},
   "outputs": [
    {
     "name": "stdout",
     "output_type": "stream",
     "text": [
      "📊 Medianas de Nikola Jokić:\n",
      "   🔸 Mediana de pontos: 28.00\n",
      "   🔸 Mediana de rebotes: 13.00\n",
      "   🔸 Mediana de assistências: 10.00\n",
      "----------------------------------------\n"
     ]
    }
   ],
   "source": [
    "dados_jogadores_path = '../resultados/parte_2/rf2_estatisticas_jogadores.csv'\n",
    "nikola_mediana_pontos, nikola_mediana_rebotes, nikola_mediana_assistencias = calcular_medianas_jogador(JOGADOR_1, dados_jogadores_path)"
   ]
  },
  {
   "cell_type": "markdown",
   "id": "98149423",
   "metadata": {},
   "source": [
    "### Michael Porter Jr."
   ]
  },
  {
   "cell_type": "code",
   "execution_count": 3,
   "id": "d0795928",
   "metadata": {},
   "outputs": [
    {
     "name": "stdout",
     "output_type": "stream",
     "text": [
      "📊 Medianas de Michael Porter Jr.:\n",
      "   🔸 Mediana de pontos: 18.00\n",
      "   🔸 Mediana de rebotes: 6.00\n",
      "   🔸 Mediana de assistências: 2.00\n",
      "----------------------------------------\n"
     ]
    }
   ],
   "source": [
    "dados_jogadores_path = '../resultados/parte_2/rf2_estatisticas_jogadores.csv'\n",
    "michael_mediana_pontos, michael_mediana_rebotes, michael_mediana_assistencias = calcular_medianas_jogador(JOGADOR_2, dados_jogadores_path)"
   ]
  },
  {
   "cell_type": "markdown",
   "id": "9ea5f2bb",
   "metadata": {},
   "source": [
    "### Jamal Murray"
   ]
  },
  {
   "cell_type": "code",
   "execution_count": 4,
   "id": "23a16231",
   "metadata": {},
   "outputs": [
    {
     "name": "stdout",
     "output_type": "stream",
     "text": [
      "📊 Medianas de Jamal Murray:\n",
      "   🔸 Mediana de pontos: 19.00\n",
      "   🔸 Mediana de rebotes: 4.00\n",
      "   🔸 Mediana de assistências: 6.00\n",
      "----------------------------------------\n"
     ]
    }
   ],
   "source": [
    "dados_jogadores_path = '../resultados/parte_2/rf2_estatisticas_jogadores.csv'\n",
    "jamal_mediana_pontos, jamal_mediana_rebotes, jamal_mediana_assistencias = calcular_medianas_jogador(JOGADOR_3, dados_jogadores_path)"
   ]
  },
  {
   "cell_type": "markdown",
   "id": "87b32caf",
   "metadata": {},
   "source": [
    "### RF6 – A – Apresentar ao usuário a porcentagem de pontos, rebotes e assistências abaixo da mediana"
   ]
  },
  {
   "cell_type": "code",
   "execution_count": 5,
   "id": "d7ad4bea065088c9",
   "metadata": {
    "ExecuteTime": {
     "end_time": "2025-01-29T23:28:08.927658Z",
     "start_time": "2025-01-29T23:28:04.384321Z"
    }
   },
   "outputs": [
    {
     "name": "stdout",
     "output_type": "stream",
     "text": [
      "📉 Estatísticas de Nikola Jokić abaixo da mediana:\n",
      "   ❌ 46.34% dos jogos com pontos abaixo da mediana (28.00)\n",
      "   ❌ 43.90% dos jogos com rebotes abaixo da mediana (13.00)\n",
      "   ❌ 41.46% dos jogos com assistências abaixo da mediana (10.00)\n",
      "----------------------------------------\n"
     ]
    }
   ],
   "source": [
    "calcular_porcentagem_abaixo_mediana(JOGADOR_1, nikola_mediana_pontos, nikola_mediana_rebotes, nikola_mediana_assistencias, dados_jogadores_path)"
   ]
  },
  {
   "cell_type": "code",
   "execution_count": 6,
   "id": "1a62f940",
   "metadata": {},
   "outputs": [
    {
     "name": "stdout",
     "output_type": "stream",
     "text": [
      "📉 Estatísticas de Michael Porter Jr. abaixo da mediana:\n",
      "   ❌ 44.68% dos jogos com pontos abaixo da mediana (18.00)\n",
      "   ❌ 36.17% dos jogos com rebotes abaixo da mediana (6.00)\n",
      "   ❌ 29.79% dos jogos com assistências abaixo da mediana (2.00)\n",
      "----------------------------------------\n"
     ]
    }
   ],
   "source": [
    "calcular_porcentagem_abaixo_mediana(JOGADOR_2, michael_mediana_pontos, michael_mediana_rebotes, michael_mediana_assistencias, dados_jogadores_path)"
   ]
  },
  {
   "cell_type": "code",
   "execution_count": 7,
   "id": "110b5152",
   "metadata": {},
   "outputs": [
    {
     "name": "stdout",
     "output_type": "stream",
     "text": [
      "📉 Estatísticas de Jamal Murray abaixo da mediana:\n",
      "   ❌ 43.90% dos jogos com pontos abaixo da mediana (19.00)\n",
      "   ❌ 39.02% dos jogos com rebotes abaixo da mediana (4.00)\n",
      "   ❌ 39.02% dos jogos com assistências abaixo da mediana (6.00)\n",
      "----------------------------------------\n"
     ]
    }
   ],
   "source": [
    "calcular_porcentagem_abaixo_mediana(JOGADOR_3, jamal_mediana_pontos, jamal_mediana_rebotes, jamal_mediana_assistencias, dados_jogadores_path)"
   ]
  }
 ],
 "metadata": {
  "kernelspec": {
   "display_name": "venv",
   "language": "python",
   "name": "python3"
  },
  "language_info": {
   "codemirror_mode": {
    "name": "ipython",
    "version": 3
   },
   "file_extension": ".py",
   "mimetype": "text/x-python",
   "name": "python",
   "nbconvert_exporter": "python",
   "pygments_lexer": "ipython3",
   "version": "3.10.0rc2"
  }
 },
 "nbformat": 5,
 "nbformat_minor": 9
}
