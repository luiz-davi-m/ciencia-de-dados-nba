{
  "cells": [
    {
      "cell_type": "markdown",
      "metadata": {
        "id": "Vl4aVyevVSCq"
      },
      "source": [
        "Fundamentos de ciência de dados - Luiz Davi e Thiago Cavalcanti"
      ]
    },
    {
      "cell_type": "code",
      "execution_count": 1,
      "metadata": {
        "id": "SrcEncChW-aD"
      },
      "outputs": [],
      "source": [
        "from nba_api_jogadores_utils import buscar_id_jogador, obter_estatisticas_de_toda_a_carreira\n",
        "from constantes_jogadores import JOGADOR_1, JOGADOR_2, JOGADOR_3, RESULTADOS_PATH\n",
        "import pandas as pd\n",
        "from nba_api_utils import salvar_dataset_csv"
      ]
    },
    {
      "cell_type": "markdown",
      "metadata": {},
      "source": [
        "# RF9 – O sistema deve apresentar a quantidade de pontos, assistências e rebotes de toda a carreira do jogador. "
      ]
    },
    {
      "cell_type": "code",
      "execution_count": 2,
      "metadata": {},
      "outputs": [],
      "source": [
        "def obter_estatisticas_formatadas_da_carreira(nome_jogador):\n",
        "    jogador_id = buscar_id_jogador(nome_jogador)\n",
        "    dados = obter_estatisticas_de_toda_a_carreira(jogador_id)\n",
        "\n",
        "    total_de_pontos = dados['PTS'].sum()\n",
        "    total_de_assistencias = dados['AST'].sum()\n",
        "    total_de_rebotes = dados['REB'].sum()\n",
        "\n",
        "    dados_formatados = {\n",
        "        'Id do jogador': [jogador_id],\n",
        "        'Nome do jogador': [nome_jogador],\n",
        "        'Total de pontos': [total_de_pontos],\n",
        "        'Total de assistências': [total_de_assistencias],\n",
        "        'Total de rebotes': [total_de_rebotes]\n",
        "    }\n",
        "\n",
        "    return pd.DataFrame(dados_formatados)"
      ]
    },
    {
      "cell_type": "markdown",
      "metadata": {},
      "source": [
        "## Obtendo estatísticas de cada jogador"
      ]
    },
    {
      "cell_type": "code",
      "execution_count": 3,
      "metadata": {},
      "outputs": [
        {
          "data": {
            "text/html": [
              "<div>\n",
              "<style scoped>\n",
              "    .dataframe tbody tr th:only-of-type {\n",
              "        vertical-align: middle;\n",
              "    }\n",
              "\n",
              "    .dataframe tbody tr th {\n",
              "        vertical-align: top;\n",
              "    }\n",
              "\n",
              "    .dataframe thead th {\n",
              "        text-align: right;\n",
              "    }\n",
              "</style>\n",
              "<table border=\"1\" class=\"dataframe\">\n",
              "  <thead>\n",
              "    <tr style=\"text-align: right;\">\n",
              "      <th></th>\n",
              "      <th>Id do jogador</th>\n",
              "      <th>Nome do jogador</th>\n",
              "      <th>Total de pontos</th>\n",
              "      <th>Total de assistências</th>\n",
              "      <th>Total de rebotes</th>\n",
              "    </tr>\n",
              "  </thead>\n",
              "  <tbody>\n",
              "    <tr>\n",
              "      <th>0</th>\n",
              "      <td>203999</td>\n",
              "      <td>Nikola Jokić</td>\n",
              "      <td>15356</td>\n",
              "      <td>5080</td>\n",
              "      <td>7779</td>\n",
              "    </tr>\n",
              "  </tbody>\n",
              "</table>\n",
              "</div>"
            ],
            "text/plain": [
              "   Id do jogador Nome do jogador  Total de pontos  Total de assistências  \\\n",
              "0         203999    Nikola Jokić            15356                   5080   \n",
              "\n",
              "   Total de rebotes  \n",
              "0              7779  "
            ]
          },
          "execution_count": 3,
          "metadata": {},
          "output_type": "execute_result"
        }
      ],
      "source": [
        "estatisticas_jogador_1 = obter_estatisticas_formatadas_da_carreira(JOGADOR_1)\n",
        "\n",
        "estatisticas_jogador_1"
      ]
    },
    {
      "cell_type": "code",
      "execution_count": 4,
      "metadata": {},
      "outputs": [
        {
          "data": {
            "text/html": [
              "<div>\n",
              "<style scoped>\n",
              "    .dataframe tbody tr th:only-of-type {\n",
              "        vertical-align: middle;\n",
              "    }\n",
              "\n",
              "    .dataframe tbody tr th {\n",
              "        vertical-align: top;\n",
              "    }\n",
              "\n",
              "    .dataframe thead th {\n",
              "        text-align: right;\n",
              "    }\n",
              "</style>\n",
              "<table border=\"1\" class=\"dataframe\">\n",
              "  <thead>\n",
              "    <tr style=\"text-align: right;\">\n",
              "      <th></th>\n",
              "      <th>Id do jogador</th>\n",
              "      <th>Nome do jogador</th>\n",
              "      <th>Total de pontos</th>\n",
              "      <th>Total de assistências</th>\n",
              "      <th>Total de rebotes</th>\n",
              "    </tr>\n",
              "  </thead>\n",
              "  <tbody>\n",
              "    <tr>\n",
              "      <th>0</th>\n",
              "      <td>1629008</td>\n",
              "      <td>Michael Porter Jr.</td>\n",
              "      <td>5041</td>\n",
              "      <td>424</td>\n",
              "      <td>1967</td>\n",
              "    </tr>\n",
              "  </tbody>\n",
              "</table>\n",
              "</div>"
            ],
            "text/plain": [
              "   Id do jogador     Nome do jogador  Total de pontos  Total de assistências  \\\n",
              "0        1629008  Michael Porter Jr.             5041                    424   \n",
              "\n",
              "   Total de rebotes  \n",
              "0              1967  "
            ]
          },
          "execution_count": 4,
          "metadata": {},
          "output_type": "execute_result"
        }
      ],
      "source": [
        "estatisticas_jogador_2 = obter_estatisticas_formatadas_da_carreira(JOGADOR_2)\n",
        "\n",
        "estatisticas_jogador_2"
      ]
    },
    {
      "cell_type": "code",
      "execution_count": 5,
      "metadata": {},
      "outputs": [
        {
          "data": {
            "text/html": [
              "<div>\n",
              "<style scoped>\n",
              "    .dataframe tbody tr th:only-of-type {\n",
              "        vertical-align: middle;\n",
              "    }\n",
              "\n",
              "    .dataframe tbody tr th {\n",
              "        vertical-align: top;\n",
              "    }\n",
              "\n",
              "    .dataframe thead th {\n",
              "        text-align: right;\n",
              "    }\n",
              "</style>\n",
              "<table border=\"1\" class=\"dataframe\">\n",
              "  <thead>\n",
              "    <tr style=\"text-align: right;\">\n",
              "      <th></th>\n",
              "      <th>Id do jogador</th>\n",
              "      <th>Nome do jogador</th>\n",
              "      <th>Total de pontos</th>\n",
              "      <th>Total de assistências</th>\n",
              "      <th>Total de rebotes</th>\n",
              "    </tr>\n",
              "  </thead>\n",
              "  <tbody>\n",
              "    <tr>\n",
              "      <th>0</th>\n",
              "      <td>1627750</td>\n",
              "      <td>Jamal Murray</td>\n",
              "      <td>9013</td>\n",
              "      <td>2351</td>\n",
              "      <td>1923</td>\n",
              "    </tr>\n",
              "  </tbody>\n",
              "</table>\n",
              "</div>"
            ],
            "text/plain": [
              "   Id do jogador Nome do jogador  Total de pontos  Total de assistências  \\\n",
              "0        1627750    Jamal Murray             9013                   2351   \n",
              "\n",
              "   Total de rebotes  \n",
              "0              1923  "
            ]
          },
          "execution_count": 5,
          "metadata": {},
          "output_type": "execute_result"
        }
      ],
      "source": [
        "estatisticas_jogador_3 = obter_estatisticas_formatadas_da_carreira(JOGADOR_3)\n",
        "\n",
        "estatisticas_jogador_3"
      ]
    },
    {
      "cell_type": "code",
      "execution_count": 6,
      "metadata": {},
      "outputs": [
        {
          "data": {
            "text/html": [
              "<div>\n",
              "<style scoped>\n",
              "    .dataframe tbody tr th:only-of-type {\n",
              "        vertical-align: middle;\n",
              "    }\n",
              "\n",
              "    .dataframe tbody tr th {\n",
              "        vertical-align: top;\n",
              "    }\n",
              "\n",
              "    .dataframe thead th {\n",
              "        text-align: right;\n",
              "    }\n",
              "</style>\n",
              "<table border=\"1\" class=\"dataframe\">\n",
              "  <thead>\n",
              "    <tr style=\"text-align: right;\">\n",
              "      <th></th>\n",
              "      <th>Id do jogador</th>\n",
              "      <th>Nome do jogador</th>\n",
              "      <th>Total de pontos</th>\n",
              "      <th>Total de assistências</th>\n",
              "      <th>Total de rebotes</th>\n",
              "    </tr>\n",
              "  </thead>\n",
              "  <tbody>\n",
              "    <tr>\n",
              "      <th>0</th>\n",
              "      <td>203999</td>\n",
              "      <td>Nikola Jokić</td>\n",
              "      <td>15356</td>\n",
              "      <td>5080</td>\n",
              "      <td>7779</td>\n",
              "    </tr>\n",
              "    <tr>\n",
              "      <th>1</th>\n",
              "      <td>1629008</td>\n",
              "      <td>Michael Porter Jr.</td>\n",
              "      <td>5041</td>\n",
              "      <td>424</td>\n",
              "      <td>1967</td>\n",
              "    </tr>\n",
              "    <tr>\n",
              "      <th>2</th>\n",
              "      <td>1627750</td>\n",
              "      <td>Jamal Murray</td>\n",
              "      <td>9013</td>\n",
              "      <td>2351</td>\n",
              "      <td>1923</td>\n",
              "    </tr>\n",
              "  </tbody>\n",
              "</table>\n",
              "</div>"
            ],
            "text/plain": [
              "   Id do jogador     Nome do jogador  Total de pontos  Total de assistências  \\\n",
              "0         203999        Nikola Jokić            15356                   5080   \n",
              "1        1629008  Michael Porter Jr.             5041                    424   \n",
              "2        1627750        Jamal Murray             9013                   2351   \n",
              "\n",
              "   Total de rebotes  \n",
              "0              7779  \n",
              "1              1967  \n",
              "2              1923  "
            ]
          },
          "execution_count": 6,
          "metadata": {},
          "output_type": "execute_result"
        }
      ],
      "source": [
        "estatisticas_jogadores = pd.concat([estatisticas_jogador_1, estatisticas_jogador_2, estatisticas_jogador_3], ignore_index=True)\n",
        "\n",
        "estatisticas_jogadores"
      ]
    },
    {
      "cell_type": "code",
      "execution_count": 7,
      "metadata": {},
      "outputs": [],
      "source": [
        "salvar_dataset_csv(estatisticas_jogadores, f\"{RESULTADOS_PATH}/rf9_estatisticas_de_toda_a_carreira.csv\")"
      ]
    }
  ],
  "metadata": {
    "colab": {
      "collapsed_sections": [
        "zk2RydIrU4Oc",
        "Ml13HzSOVs4i",
        "ZDYotAe4d5P_",
        "rub2JCjifzz3",
        "jGuA-l7Ahxs2",
        "4cXykjqVknnH",
        "oWYtYxY2hvKA",
        "OCqnoeBSnO3O",
        "Vlj0rmWdnwxe",
        "safRRJ0EpwX_",
        "E7rPnHzBqHLe",
        "5vs-0_gFqVBu",
        "m7-vRjw_qkQP",
        "MTk8EVSpuSyP",
        "d6JIAfPsuf_W",
        "XmxeZqvuunmO"
      ],
      "provenance": []
    },
    "kernelspec": {
      "display_name": "Python 3",
      "name": "python3"
    },
    "language_info": {
      "codemirror_mode": {
        "name": "ipython",
        "version": 3
      },
      "file_extension": ".py",
      "mimetype": "text/x-python",
      "name": "python",
      "nbconvert_exporter": "python",
      "pygments_lexer": "ipython3",
      "version": "3.11.8"
    },
    "widgets": {
      "application/vnd.jupyter.widget-state+json": {
        "13af86d0a9a94784b744e2f28a6d7912": {
          "model_module": "@jupyter-widgets/controls",
          "model_module_version": "1.5.0",
          "model_name": "FloatProgressModel",
          "state": {
            "_dom_classes": [],
            "_model_module": "@jupyter-widgets/controls",
            "_model_module_version": "1.5.0",
            "_model_name": "FloatProgressModel",
            "_view_count": null,
            "_view_module": "@jupyter-widgets/controls",
            "_view_module_version": "1.5.0",
            "_view_name": "ProgressView",
            "bar_style": "success",
            "description": "",
            "description_tooltip": null,
            "layout": "IPY_MODEL_84aef54119ac4645a6aed56ebef2fc3a",
            "max": 48453,
            "min": 0,
            "orientation": "horizontal",
            "style": "IPY_MODEL_8950d287e9684c648e2372613d9f5c70",
            "value": 48453
          }
        },
        "32ec4871a3124034a7925e8a811f9ae3": {
          "model_module": "@jupyter-widgets/controls",
          "model_module_version": "1.5.0",
          "model_name": "HBoxModel",
          "state": {
            "_dom_classes": [],
            "_model_module": "@jupyter-widgets/controls",
            "_model_module_version": "1.5.0",
            "_model_name": "HBoxModel",
            "_view_count": null,
            "_view_module": "@jupyter-widgets/controls",
            "_view_module_version": "1.5.0",
            "_view_name": "HBoxView",
            "box_style": "",
            "children": [
              "IPY_MODEL_9f6fc8d8659f43a687873e6ff803f824",
              "IPY_MODEL_13af86d0a9a94784b744e2f28a6d7912",
              "IPY_MODEL_ff48e54344024abdab6400f9a1dfc7ca"
            ],
            "layout": "IPY_MODEL_7c55b00132ea4976af0ecd4233615ea3"
          }
        },
        "54694068f7fd4fb3a43ee0c13f513d68": {
          "model_module": "@jupyter-widgets/base",
          "model_module_version": "1.2.0",
          "model_name": "LayoutModel",
          "state": {
            "_model_module": "@jupyter-widgets/base",
            "_model_module_version": "1.2.0",
            "_model_name": "LayoutModel",
            "_view_count": null,
            "_view_module": "@jupyter-widgets/base",
            "_view_module_version": "1.2.0",
            "_view_name": "LayoutView",
            "align_content": null,
            "align_items": null,
            "align_self": null,
            "border": null,
            "bottom": null,
            "display": null,
            "flex": null,
            "flex_flow": null,
            "grid_area": null,
            "grid_auto_columns": null,
            "grid_auto_flow": null,
            "grid_auto_rows": null,
            "grid_column": null,
            "grid_gap": null,
            "grid_row": null,
            "grid_template_areas": null,
            "grid_template_columns": null,
            "grid_template_rows": null,
            "height": null,
            "justify_content": null,
            "justify_items": null,
            "left": null,
            "margin": null,
            "max_height": null,
            "max_width": null,
            "min_height": null,
            "min_width": null,
            "object_fit": null,
            "object_position": null,
            "order": null,
            "overflow": null,
            "overflow_x": null,
            "overflow_y": null,
            "padding": null,
            "right": null,
            "top": null,
            "visibility": null,
            "width": null
          }
        },
        "7c55b00132ea4976af0ecd4233615ea3": {
          "model_module": "@jupyter-widgets/base",
          "model_module_version": "1.2.0",
          "model_name": "LayoutModel",
          "state": {
            "_model_module": "@jupyter-widgets/base",
            "_model_module_version": "1.2.0",
            "_model_name": "LayoutModel",
            "_view_count": null,
            "_view_module": "@jupyter-widgets/base",
            "_view_module_version": "1.2.0",
            "_view_name": "LayoutView",
            "align_content": null,
            "align_items": null,
            "align_self": null,
            "border": null,
            "bottom": null,
            "display": null,
            "flex": null,
            "flex_flow": null,
            "grid_area": null,
            "grid_auto_columns": null,
            "grid_auto_flow": null,
            "grid_auto_rows": null,
            "grid_column": null,
            "grid_gap": null,
            "grid_row": null,
            "grid_template_areas": null,
            "grid_template_columns": null,
            "grid_template_rows": null,
            "height": null,
            "justify_content": null,
            "justify_items": null,
            "left": null,
            "margin": null,
            "max_height": null,
            "max_width": null,
            "min_height": null,
            "min_width": null,
            "object_fit": null,
            "object_position": null,
            "order": null,
            "overflow": null,
            "overflow_x": null,
            "overflow_y": null,
            "padding": null,
            "right": null,
            "top": null,
            "visibility": null,
            "width": null
          }
        },
        "84aef54119ac4645a6aed56ebef2fc3a": {
          "model_module": "@jupyter-widgets/base",
          "model_module_version": "1.2.0",
          "model_name": "LayoutModel",
          "state": {
            "_model_module": "@jupyter-widgets/base",
            "_model_module_version": "1.2.0",
            "_model_name": "LayoutModel",
            "_view_count": null,
            "_view_module": "@jupyter-widgets/base",
            "_view_module_version": "1.2.0",
            "_view_name": "LayoutView",
            "align_content": null,
            "align_items": null,
            "align_self": null,
            "border": null,
            "bottom": null,
            "display": null,
            "flex": null,
            "flex_flow": null,
            "grid_area": null,
            "grid_auto_columns": null,
            "grid_auto_flow": null,
            "grid_auto_rows": null,
            "grid_column": null,
            "grid_gap": null,
            "grid_row": null,
            "grid_template_areas": null,
            "grid_template_columns": null,
            "grid_template_rows": null,
            "height": null,
            "justify_content": null,
            "justify_items": null,
            "left": null,
            "margin": null,
            "max_height": null,
            "max_width": null,
            "min_height": null,
            "min_width": null,
            "object_fit": null,
            "object_position": null,
            "order": null,
            "overflow": null,
            "overflow_x": null,
            "overflow_y": null,
            "padding": null,
            "right": null,
            "top": null,
            "visibility": null,
            "width": null
          }
        },
        "8950d287e9684c648e2372613d9f5c70": {
          "model_module": "@jupyter-widgets/controls",
          "model_module_version": "1.5.0",
          "model_name": "ProgressStyleModel",
          "state": {
            "_model_module": "@jupyter-widgets/controls",
            "_model_module_version": "1.5.0",
            "_model_name": "ProgressStyleModel",
            "_view_count": null,
            "_view_module": "@jupyter-widgets/base",
            "_view_module_version": "1.2.0",
            "_view_name": "StyleView",
            "bar_color": null,
            "description_width": ""
          }
        },
        "9f6fc8d8659f43a687873e6ff803f824": {
          "model_module": "@jupyter-widgets/controls",
          "model_module_version": "1.5.0",
          "model_name": "HTMLModel",
          "state": {
            "_dom_classes": [],
            "_model_module": "@jupyter-widgets/controls",
            "_model_module_version": "1.5.0",
            "_model_name": "HTMLModel",
            "_view_count": null,
            "_view_module": "@jupyter-widgets/controls",
            "_view_module_version": "1.5.0",
            "_view_name": "HTMLView",
            "description": "",
            "description_tooltip": null,
            "layout": "IPY_MODEL_b6edc22a79f54870a8cbbb0f42775a9c",
            "placeholder": "​",
            "style": "IPY_MODEL_f96dd8ffd88944e2baaa89cd443ede27",
            "value": "Downloading https://raw.githubusercontent.com/stanfordnlp/stanza-resources/main/resources_1.9.0.json: "
          }
        },
        "b3f21b75f0d94fc197a8bc157686dbb4": {
          "model_module": "@jupyter-widgets/controls",
          "model_module_version": "1.5.0",
          "model_name": "DescriptionStyleModel",
          "state": {
            "_model_module": "@jupyter-widgets/controls",
            "_model_module_version": "1.5.0",
            "_model_name": "DescriptionStyleModel",
            "_view_count": null,
            "_view_module": "@jupyter-widgets/base",
            "_view_module_version": "1.2.0",
            "_view_name": "StyleView",
            "description_width": ""
          }
        },
        "b6edc22a79f54870a8cbbb0f42775a9c": {
          "model_module": "@jupyter-widgets/base",
          "model_module_version": "1.2.0",
          "model_name": "LayoutModel",
          "state": {
            "_model_module": "@jupyter-widgets/base",
            "_model_module_version": "1.2.0",
            "_model_name": "LayoutModel",
            "_view_count": null,
            "_view_module": "@jupyter-widgets/base",
            "_view_module_version": "1.2.0",
            "_view_name": "LayoutView",
            "align_content": null,
            "align_items": null,
            "align_self": null,
            "border": null,
            "bottom": null,
            "display": null,
            "flex": null,
            "flex_flow": null,
            "grid_area": null,
            "grid_auto_columns": null,
            "grid_auto_flow": null,
            "grid_auto_rows": null,
            "grid_column": null,
            "grid_gap": null,
            "grid_row": null,
            "grid_template_areas": null,
            "grid_template_columns": null,
            "grid_template_rows": null,
            "height": null,
            "justify_content": null,
            "justify_items": null,
            "left": null,
            "margin": null,
            "max_height": null,
            "max_width": null,
            "min_height": null,
            "min_width": null,
            "object_fit": null,
            "object_position": null,
            "order": null,
            "overflow": null,
            "overflow_x": null,
            "overflow_y": null,
            "padding": null,
            "right": null,
            "top": null,
            "visibility": null,
            "width": null
          }
        },
        "f96dd8ffd88944e2baaa89cd443ede27": {
          "model_module": "@jupyter-widgets/controls",
          "model_module_version": "1.5.0",
          "model_name": "DescriptionStyleModel",
          "state": {
            "_model_module": "@jupyter-widgets/controls",
            "_model_module_version": "1.5.0",
            "_model_name": "DescriptionStyleModel",
            "_view_count": null,
            "_view_module": "@jupyter-widgets/base",
            "_view_module_version": "1.2.0",
            "_view_name": "StyleView",
            "description_width": ""
          }
        },
        "ff48e54344024abdab6400f9a1dfc7ca": {
          "model_module": "@jupyter-widgets/controls",
          "model_module_version": "1.5.0",
          "model_name": "HTMLModel",
          "state": {
            "_dom_classes": [],
            "_model_module": "@jupyter-widgets/controls",
            "_model_module_version": "1.5.0",
            "_model_name": "HTMLModel",
            "_view_count": null,
            "_view_module": "@jupyter-widgets/controls",
            "_view_module_version": "1.5.0",
            "_view_name": "HTMLView",
            "description": "",
            "description_tooltip": null,
            "layout": "IPY_MODEL_54694068f7fd4fb3a43ee0c13f513d68",
            "placeholder": "​",
            "style": "IPY_MODEL_b3f21b75f0d94fc197a8bc157686dbb4",
            "value": " 392k/? [00:00&lt;00:00, 6.48MB/s]"
          }
        }
      }
    }
  },
  "nbformat": 4,
  "nbformat_minor": 0
}
