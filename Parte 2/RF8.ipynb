{
 "cells": [
  {
   "cell_type": "markdown",
   "id": "eb60d4aabaa0e6f9",
   "metadata": {},
   "source": [
    "Fundamentos de ciência de dados - Luiz Davi e Thiago Cavalcanti"
   ]
  },
  {
   "cell_type": "code",
   "execution_count": 1,
   "id": "e4d3bc919e3bbddd",
   "metadata": {
    "ExecuteTime": {
     "end_time": "2025-01-29T23:27:22.385024Z",
     "start_time": "2025-01-29T23:27:21.974711Z"
    }
   },
   "outputs": [],
   "source": [
    "from nba_api_jogadores_utils import calcular_desvio_padrao_jogador\n",
    "from constantes_jogadores import JOGADOR_1, JOGADOR_2, JOGADOR_3"
   ]
  },
  {
   "cell_type": "markdown",
   "id": "7a33c8b096f7903",
   "metadata": {},
   "source": [
    "# RF8 – Apresentar o Desvio Padrão de pontos, rebotes e assistências dos jogadores. Quanto mais próximo de zero, mais agrupado em torno da média os dados estão."
   ]
  },
  {
   "cell_type": "markdown",
   "id": "0b5c5e05",
   "metadata": {},
   "source": [
    "### Nikola Jokić"
   ]
  },
  {
   "cell_type": "code",
   "execution_count": 5,
   "id": "1e1036d4",
   "metadata": {},
   "outputs": [
    {
     "name": "stdout",
     "output_type": "stream",
     "text": [
      "📊 Desvio Padrão - Nikola Jokić:\n",
      "   🔹 Pontos: 9.45\n",
      "   🔹 Rebotes: 4.77\n",
      "   🔹 Assistências: 3.74\n",
      "----------------------------------------\n"
     ]
    }
   ],
   "source": [
    "dados_jogadores_path = '../resultados/parte_2/rf2_estatisticas_jogadores.csv'\n",
    "calcular_desvio_padrao_jogador(JOGADOR_1, dados_jogadores_path)"
   ]
  },
  {
   "cell_type": "markdown",
   "id": "98149423",
   "metadata": {},
   "source": [
    "### Michael Porter Jr."
   ]
  },
  {
   "cell_type": "code",
   "execution_count": 6,
   "id": "d0795928",
   "metadata": {},
   "outputs": [
    {
     "name": "stdout",
     "output_type": "stream",
     "text": [
      "📊 Desvio Padrão - Michael Porter Jr.:\n",
      "   🔹 Pontos: 5.31\n",
      "   🔹 Rebotes: 2.41\n",
      "   🔹 Assistências: 1.41\n",
      "----------------------------------------\n"
     ]
    }
   ],
   "source": [
    "dados_jogadores_path = '../resultados/parte_2/rf2_estatisticas_jogadores.csv'\n",
    "calcular_desvio_padrao_jogador(JOGADOR_2, dados_jogadores_path)"
   ]
  },
  {
   "cell_type": "markdown",
   "id": "9ea5f2bb",
   "metadata": {},
   "source": [
    "### Jamal Murray"
   ]
  },
  {
   "cell_type": "code",
   "execution_count": 7,
   "id": "23a16231",
   "metadata": {},
   "outputs": [
    {
     "name": "stdout",
     "output_type": "stream",
     "text": [
      "📊 Desvio Padrão - Jamal Murray:\n",
      "   🔹 Pontos: 7.68\n",
      "   🔹 Rebotes: 2.01\n",
      "   🔹 Assistências: 2.25\n",
      "----------------------------------------\n"
     ]
    }
   ],
   "source": [
    "dados_jogadores_path = '../resultados/parte_2/rf2_estatisticas_jogadores.csv'\n",
    "calcular_desvio_padrao_jogador(JOGADOR_3, dados_jogadores_path)"
   ]
  }
 ],
 "metadata": {
  "kernelspec": {
   "display_name": "venv",
   "language": "python",
   "name": "python3"
  },
  "language_info": {
   "codemirror_mode": {
    "name": "ipython",
    "version": 3
   },
   "file_extension": ".py",
   "mimetype": "text/x-python",
   "name": "python",
   "nbconvert_exporter": "python",
   "pygments_lexer": "ipython3",
   "version": "3.10.0rc2"
  }
 },
 "nbformat": 5,
 "nbformat_minor": 9
}
