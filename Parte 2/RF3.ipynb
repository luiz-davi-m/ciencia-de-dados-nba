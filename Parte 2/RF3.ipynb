{
  "cells": [
    {
      "cell_type": "markdown",
      "metadata": {
        "id": "Vl4aVyevVSCq"
      },
      "source": [
        "Fundamentos de ciência de dados - Luiz Davi e Thiago Cavalcanti"
      ]
    },
    {
      "cell_type": "code",
      "execution_count": 3,
      "metadata": {
        "id": "SrcEncChW-aD"
      },
      "outputs": [],
      "source": [
        "from nba_api_jogadores_utils import obter_logs_dos_jogos_por_jogador\n",
        "from constantes_jogadores import JOGADOR_1, JOGADOR_2, JOGADOR_3, JOGADOR_1_ID, JOGADOR_2_ID, JOGADOR_3_ID, TEMPORADA_ATUAL, RESULTADOS_PATH, TIME_ID\n",
        "import pandas as pd\n",
        "from nba_api_utils import obter_time, salvar_dataset_csv"
      ]
    },
    {
      "cell_type": "markdown",
      "metadata": {},
      "source": [
        "# RF3 - O sistema deve fornecer os dados das partidas que o usuário escolher. \n",
        "Ex. Partidas contra time X e apresentar esses dados conforme Tabela 3."
      ]
    },
    {
      "cell_type": "code",
      "execution_count": 23,
      "metadata": {},
      "outputs": [],
      "source": [
        "def retornar_estatisticas_do_jogador(logs, nome_jogador):\n",
        "    logs['PLAYER'] = nome_jogador\n",
        "    logs['HOME/AWAY'] = logs['MATCHUP'].apply(lambda x: 'Casa' if 'vs.' in x else 'Fora')\n",
        "    logs['SCOREBOARD'] = None\n",
        "\n",
        "    logs['WL'] = logs['WL'].map({'W': 'Vitória', 'L': 'Derrota'})\n",
        "    logs['MATCHUP'] = logs['MATCHUP'].apply(lambda x: x.split(' ')[-1])\n",
        "    \n",
        "    dataset = logs[['PLAYER', 'GAME_DATE', 'MATCHUP', 'WL', 'HOME/AWAY', 'PTS', 'REB', 'AST', 'SCOREBOARD', 'Game_ID', 'FG3A', 'FG3M', 'MIN']]\n",
        "    dataset.columns = ['Jogador', 'Data do jogo', 'Adversário', 'Vitória ou derrota', 'Casa ou fora', 'Pontos', 'Rebotes', 'Assistências', 'Placar', 'Id do jogo', 'Tentativas de cesta de 3 pontos', 'Cestas de 3 pontos marcadas', 'Tempo de permanência']\n",
        "    return dataset"
      ]
    },
    {
      "cell_type": "code",
      "execution_count": 24,
      "metadata": {},
      "outputs": [],
      "source": [
        "from nba_api.stats.endpoints import boxscoretraditionalv2\n",
        "\n",
        "def retornar_placar_da_partida(eh_visitante, id_do_jogo):\n",
        "    jogo_boxscore = boxscoretraditionalv2.BoxScoreTraditionalV2(game_id=id_do_jogo)\n",
        "    dados_boxscore = jogo_boxscore.get_data_frames()[0]\n",
        "\n",
        "    if eh_visitante:\n",
        "        placar_adversario = dados_boxscore[dados_boxscore['TEAM_ID'] == TIME_ID]['PTS'].sum()\n",
        "        placar_time = dados_boxscore[dados_boxscore['TEAM_ID'] != TIME_ID]['PTS'].sum()\n",
        "    else:\n",
        "        placar_time = dados_boxscore[dados_boxscore['TEAM_ID'] == TIME_ID]['PTS'].sum()\n",
        "        placar_adversario = dados_boxscore[dados_boxscore['TEAM_ID'] != TIME_ID]['PTS'].sum()\n",
        "\n",
        "    return f'{int(placar_time)} - {int(placar_adversario)}'"
      ]
    },
    {
      "cell_type": "code",
      "execution_count": 25,
      "metadata": {},
      "outputs": [],
      "source": [
        "import time\n",
        "def adicionar_placares_no_dataset(estatisticas):\n",
        "    for index, row in estatisticas.iterrows():\n",
        "        eh_visitante = row['Casa ou fora']\n",
        "        id_do_jogo = row['Id do jogo']\n",
        "        \n",
        "        placar = retornar_placar_da_partida(eh_visitante, id_do_jogo)\n",
        "        \n",
        "        time.sleep(1) # Pode ser removido, caso não esteja acontecendo timeout na requisição para a API\n",
        "        \n",
        "        estatisticas.at[index, 'Placar'] = placar"
      ]
    },
    {
      "cell_type": "markdown",
      "metadata": {},
      "source": [
        "## Diferença para o RF2"
      ]
    },
    {
      "cell_type": "code",
      "execution_count": 20,
      "metadata": {},
      "outputs": [
        {
          "data": {
            "text/plain": [
              "id                 1610612741\n",
              "full_name       Chicago Bulls\n",
              "abbreviation              CHI\n",
              "nickname                Bulls\n",
              "city                  Chicago\n",
              "state                Illinois\n",
              "year_founded             1966\n",
              "Name: 4, dtype: object"
            ]
          },
          "execution_count": 20,
          "metadata": {},
          "output_type": "execute_result"
        }
      ],
      "source": [
        "adversario =  obter_time(\"Chicago Bulls\")\n",
        "adversario"
      ]
    },
    {
      "cell_type": "code",
      "execution_count": 22,
      "metadata": {},
      "outputs": [],
      "source": [
        "def obter_logs_dos_jogos_contra_adversario(jogador_id, temporada, adversario):\n",
        "    logs = obter_logs_dos_jogos_por_jogador(jogador_id, temporada)\n",
        "    \n",
        "    logs_filtrados = logs[logs['MATCHUP'].str.contains(adversario, regex=False)]\n",
        "\n",
        "    return logs_filtrados"
      ]
    },
    {
      "cell_type": "code",
      "execution_count": 26,
      "metadata": {},
      "outputs": [],
      "source": [
        "def retornar_estatisticas_do_jogador_contra_adversario(jogador_id, nome_jogador, temporada, adversario):\n",
        "    logs = obter_logs_dos_jogos_contra_adversario(jogador_id, temporada, adversario)\n",
        "    \n",
        "    if logs.empty:\n",
        "        print(f\"Nenhum jogo encontrado contra {adversario} para {nome_jogador}.\")\n",
        "        return pd.DataFrame()\n",
        "\n",
        "    dataset = retornar_estatisticas_do_jogador(logs, nome_jogador)\n",
        "    return dataset"
      ]
    },
    {
      "cell_type": "markdown",
      "metadata": {},
      "source": [
        "## Obtendo estatísticas de cada jogador"
      ]
    },
    {
      "cell_type": "code",
      "execution_count": 34,
      "metadata": {},
      "outputs": [
        {
          "data": {
            "text/plain": [
              "'CHI'"
            ]
          },
          "execution_count": 34,
          "metadata": {},
          "output_type": "execute_result"
        }
      ],
      "source": [
        "adversario_escolhido = adversario['abbreviation']\n",
        "adversario_escolhido"
      ]
    },
    {
      "cell_type": "code",
      "execution_count": 35,
      "metadata": {},
      "outputs": [
        {
          "data": {
            "text/html": [
              "<div>\n",
              "<style scoped>\n",
              "    .dataframe tbody tr th:only-of-type {\n",
              "        vertical-align: middle;\n",
              "    }\n",
              "\n",
              "    .dataframe tbody tr th {\n",
              "        vertical-align: top;\n",
              "    }\n",
              "\n",
              "    .dataframe thead th {\n",
              "        text-align: right;\n",
              "    }\n",
              "</style>\n",
              "<table border=\"1\" class=\"dataframe\">\n",
              "  <thead>\n",
              "    <tr style=\"text-align: right;\">\n",
              "      <th></th>\n",
              "      <th>Jogador</th>\n",
              "      <th>Data do jogo</th>\n",
              "      <th>Adversário</th>\n",
              "      <th>Vitória ou derrota</th>\n",
              "      <th>Casa ou fora</th>\n",
              "      <th>Pontos</th>\n",
              "      <th>Rebotes</th>\n",
              "      <th>Assistências</th>\n",
              "      <th>Placar</th>\n",
              "      <th>Tentativas de cesta de 3 pontos</th>\n",
              "      <th>Cestas de 3 pontos marcadas</th>\n",
              "      <th>Tempo de permanência</th>\n",
              "    </tr>\n",
              "  </thead>\n",
              "  <tbody>\n",
              "    <tr>\n",
              "      <th>1</th>\n",
              "      <td>Nikola Jokić</td>\n",
              "      <td>JAN 27, 2025</td>\n",
              "      <td>CHI</td>\n",
              "      <td>Derrota</td>\n",
              "      <td>Fora</td>\n",
              "      <td>33</td>\n",
              "      <td>12</td>\n",
              "      <td>14</td>\n",
              "      <td>129 - 121</td>\n",
              "      <td>4</td>\n",
              "      <td>1</td>\n",
              "      <td>40</td>\n",
              "    </tr>\n",
              "  </tbody>\n",
              "</table>\n",
              "</div>"
            ],
            "text/plain": [
              "        Jogador  Data do jogo Adversário Vitória ou derrota Casa ou fora  \\\n",
              "1  Nikola Jokić  JAN 27, 2025        CHI            Derrota         Fora   \n",
              "\n",
              "   Pontos  Rebotes  Assistências     Placar  Tentativas de cesta de 3 pontos  \\\n",
              "1      33       12            14  129 - 121                                4   \n",
              "\n",
              "   Cestas de 3 pontos marcadas  Tempo de permanência  \n",
              "1                            1                    40  "
            ]
          },
          "execution_count": 35,
          "metadata": {},
          "output_type": "execute_result"
        }
      ],
      "source": [
        "estatisticas_jogador_1 = retornar_estatisticas_do_jogador_contra_adversario(JOGADOR_1_ID, JOGADOR_1, TEMPORADA_ATUAL, adversario_escolhido)\n",
        "\n",
        "adicionar_placares_no_dataset(estatisticas_jogador_1)\n",
        "estatisticas_jogador_1 = estatisticas_jogador_1.drop(columns=['Id do jogo'])\n",
        "\n",
        "estatisticas_jogador_1"
      ]
    },
    {
      "cell_type": "code",
      "execution_count": 36,
      "metadata": {},
      "outputs": [
        {
          "data": {
            "text/html": [
              "<div>\n",
              "<style scoped>\n",
              "    .dataframe tbody tr th:only-of-type {\n",
              "        vertical-align: middle;\n",
              "    }\n",
              "\n",
              "    .dataframe tbody tr th {\n",
              "        vertical-align: top;\n",
              "    }\n",
              "\n",
              "    .dataframe thead th {\n",
              "        text-align: right;\n",
              "    }\n",
              "</style>\n",
              "<table border=\"1\" class=\"dataframe\">\n",
              "  <thead>\n",
              "    <tr style=\"text-align: right;\">\n",
              "      <th></th>\n",
              "      <th>Jogador</th>\n",
              "      <th>Data do jogo</th>\n",
              "      <th>Adversário</th>\n",
              "      <th>Vitória ou derrota</th>\n",
              "      <th>Casa ou fora</th>\n",
              "      <th>Pontos</th>\n",
              "      <th>Rebotes</th>\n",
              "      <th>Assistências</th>\n",
              "      <th>Placar</th>\n",
              "      <th>Tentativas de cesta de 3 pontos</th>\n",
              "      <th>Cestas de 3 pontos marcadas</th>\n",
              "      <th>Tempo de permanência</th>\n",
              "    </tr>\n",
              "  </thead>\n",
              "  <tbody>\n",
              "    <tr>\n",
              "      <th>1</th>\n",
              "      <td>Michael Porter Jr.</td>\n",
              "      <td>JAN 27, 2025</td>\n",
              "      <td>CHI</td>\n",
              "      <td>Derrota</td>\n",
              "      <td>Fora</td>\n",
              "      <td>18</td>\n",
              "      <td>7</td>\n",
              "      <td>0</td>\n",
              "      <td>129 - 121</td>\n",
              "      <td>8</td>\n",
              "      <td>2</td>\n",
              "      <td>32</td>\n",
              "    </tr>\n",
              "  </tbody>\n",
              "</table>\n",
              "</div>"
            ],
            "text/plain": [
              "              Jogador  Data do jogo Adversário Vitória ou derrota  \\\n",
              "1  Michael Porter Jr.  JAN 27, 2025        CHI            Derrota   \n",
              "\n",
              "  Casa ou fora  Pontos  Rebotes  Assistências     Placar  \\\n",
              "1         Fora      18        7             0  129 - 121   \n",
              "\n",
              "   Tentativas de cesta de 3 pontos  Cestas de 3 pontos marcadas  \\\n",
              "1                                8                            2   \n",
              "\n",
              "   Tempo de permanência  \n",
              "1                    32  "
            ]
          },
          "execution_count": 36,
          "metadata": {},
          "output_type": "execute_result"
        }
      ],
      "source": [
        "estatisticas_jogador_2 = retornar_estatisticas_do_jogador_contra_adversario(JOGADOR_2_ID, JOGADOR_2, TEMPORADA_ATUAL, adversario_escolhido)\n",
        "\n",
        "adicionar_placares_no_dataset(estatisticas_jogador_2)\n",
        "\n",
        "estatisticas_jogador_2 = estatisticas_jogador_2.drop(columns=['Id do jogo'])\n",
        "\n",
        "estatisticas_jogador_2"
      ]
    },
    {
      "cell_type": "code",
      "execution_count": 37,
      "metadata": {},
      "outputs": [
        {
          "data": {
            "text/html": [
              "<div>\n",
              "<style scoped>\n",
              "    .dataframe tbody tr th:only-of-type {\n",
              "        vertical-align: middle;\n",
              "    }\n",
              "\n",
              "    .dataframe tbody tr th {\n",
              "        vertical-align: top;\n",
              "    }\n",
              "\n",
              "    .dataframe thead th {\n",
              "        text-align: right;\n",
              "    }\n",
              "</style>\n",
              "<table border=\"1\" class=\"dataframe\">\n",
              "  <thead>\n",
              "    <tr style=\"text-align: right;\">\n",
              "      <th></th>\n",
              "      <th>Jogador</th>\n",
              "      <th>Data do jogo</th>\n",
              "      <th>Adversário</th>\n",
              "      <th>Vitória ou derrota</th>\n",
              "      <th>Casa ou fora</th>\n",
              "      <th>Pontos</th>\n",
              "      <th>Rebotes</th>\n",
              "      <th>Assistências</th>\n",
              "      <th>Placar</th>\n",
              "      <th>Tentativas de cesta de 3 pontos</th>\n",
              "      <th>Cestas de 3 pontos marcadas</th>\n",
              "      <th>Tempo de permanência</th>\n",
              "    </tr>\n",
              "  </thead>\n",
              "  <tbody>\n",
              "    <tr>\n",
              "      <th>1</th>\n",
              "      <td>Jamal Murray</td>\n",
              "      <td>JAN 27, 2025</td>\n",
              "      <td>CHI</td>\n",
              "      <td>Derrota</td>\n",
              "      <td>Fora</td>\n",
              "      <td>18</td>\n",
              "      <td>6</td>\n",
              "      <td>6</td>\n",
              "      <td>129 - 121</td>\n",
              "      <td>5</td>\n",
              "      <td>1</td>\n",
              "      <td>40</td>\n",
              "    </tr>\n",
              "  </tbody>\n",
              "</table>\n",
              "</div>"
            ],
            "text/plain": [
              "        Jogador  Data do jogo Adversário Vitória ou derrota Casa ou fora  \\\n",
              "1  Jamal Murray  JAN 27, 2025        CHI            Derrota         Fora   \n",
              "\n",
              "   Pontos  Rebotes  Assistências     Placar  Tentativas de cesta de 3 pontos  \\\n",
              "1      18        6             6  129 - 121                                5   \n",
              "\n",
              "   Cestas de 3 pontos marcadas  Tempo de permanência  \n",
              "1                            1                    40  "
            ]
          },
          "execution_count": 37,
          "metadata": {},
          "output_type": "execute_result"
        }
      ],
      "source": [
        "estatisticas_jogador_3 = retornar_estatisticas_do_jogador_contra_adversario(JOGADOR_3_ID, JOGADOR_3, TEMPORADA_ATUAL, adversario_escolhido)\n",
        "\n",
        "adicionar_placares_no_dataset(estatisticas_jogador_3)\n",
        "estatisticas_jogador_3 = estatisticas_jogador_3.drop(columns=['Id do jogo'])\n",
        "\n",
        "estatisticas_jogador_3"
      ]
    },
    {
      "cell_type": "code",
      "execution_count": 38,
      "metadata": {},
      "outputs": [
        {
          "data": {
            "text/html": [
              "<div>\n",
              "<style scoped>\n",
              "    .dataframe tbody tr th:only-of-type {\n",
              "        vertical-align: middle;\n",
              "    }\n",
              "\n",
              "    .dataframe tbody tr th {\n",
              "        vertical-align: top;\n",
              "    }\n",
              "\n",
              "    .dataframe thead th {\n",
              "        text-align: right;\n",
              "    }\n",
              "</style>\n",
              "<table border=\"1\" class=\"dataframe\">\n",
              "  <thead>\n",
              "    <tr style=\"text-align: right;\">\n",
              "      <th></th>\n",
              "      <th>Jogador</th>\n",
              "      <th>Data do jogo</th>\n",
              "      <th>Adversário</th>\n",
              "      <th>Vitória ou derrota</th>\n",
              "      <th>Casa ou fora</th>\n",
              "      <th>Pontos</th>\n",
              "      <th>Rebotes</th>\n",
              "      <th>Assistências</th>\n",
              "      <th>Placar</th>\n",
              "      <th>Tentativas de cesta de 3 pontos</th>\n",
              "      <th>Cestas de 3 pontos marcadas</th>\n",
              "      <th>Tempo de permanência</th>\n",
              "    </tr>\n",
              "  </thead>\n",
              "  <tbody>\n",
              "    <tr>\n",
              "      <th>0</th>\n",
              "      <td>Nikola Jokić</td>\n",
              "      <td>2025-01-27</td>\n",
              "      <td>CHI</td>\n",
              "      <td>Derrota</td>\n",
              "      <td>Fora</td>\n",
              "      <td>33</td>\n",
              "      <td>12</td>\n",
              "      <td>14</td>\n",
              "      <td>129 - 121</td>\n",
              "      <td>4</td>\n",
              "      <td>1</td>\n",
              "      <td>40</td>\n",
              "    </tr>\n",
              "    <tr>\n",
              "      <th>1</th>\n",
              "      <td>Michael Porter Jr.</td>\n",
              "      <td>2025-01-27</td>\n",
              "      <td>CHI</td>\n",
              "      <td>Derrota</td>\n",
              "      <td>Fora</td>\n",
              "      <td>18</td>\n",
              "      <td>7</td>\n",
              "      <td>0</td>\n",
              "      <td>129 - 121</td>\n",
              "      <td>8</td>\n",
              "      <td>2</td>\n",
              "      <td>32</td>\n",
              "    </tr>\n",
              "    <tr>\n",
              "      <th>2</th>\n",
              "      <td>Jamal Murray</td>\n",
              "      <td>2025-01-27</td>\n",
              "      <td>CHI</td>\n",
              "      <td>Derrota</td>\n",
              "      <td>Fora</td>\n",
              "      <td>18</td>\n",
              "      <td>6</td>\n",
              "      <td>6</td>\n",
              "      <td>129 - 121</td>\n",
              "      <td>5</td>\n",
              "      <td>1</td>\n",
              "      <td>40</td>\n",
              "    </tr>\n",
              "  </tbody>\n",
              "</table>\n",
              "</div>"
            ],
            "text/plain": [
              "              Jogador Data do jogo Adversário Vitória ou derrota Casa ou fora  \\\n",
              "0        Nikola Jokić   2025-01-27        CHI            Derrota         Fora   \n",
              "1  Michael Porter Jr.   2025-01-27        CHI            Derrota         Fora   \n",
              "2        Jamal Murray   2025-01-27        CHI            Derrota         Fora   \n",
              "\n",
              "   Pontos  Rebotes  Assistências     Placar  Tentativas de cesta de 3 pontos  \\\n",
              "0      33       12            14  129 - 121                                4   \n",
              "1      18        7             0  129 - 121                                8   \n",
              "2      18        6             6  129 - 121                                5   \n",
              "\n",
              "   Cestas de 3 pontos marcadas  Tempo de permanência  \n",
              "0                            1                    40  \n",
              "1                            2                    32  \n",
              "2                            1                    40  "
            ]
          },
          "execution_count": 38,
          "metadata": {},
          "output_type": "execute_result"
        }
      ],
      "source": [
        "estatisticas_jogadores = pd.concat([estatisticas_jogador_1, estatisticas_jogador_2, estatisticas_jogador_3], ignore_index=True)\n",
        "\n",
        "estatisticas_jogadores['Data do jogo'] = pd.to_datetime(estatisticas_jogadores['Data do jogo'], format='%b %d, %Y')\n",
        "estatisticas_jogadores = estatisticas_jogadores.sort_values(by='Data do jogo')\n",
        "\n",
        "estatisticas_jogadores"
      ]
    },
    {
      "cell_type": "code",
      "execution_count": 39,
      "metadata": {},
      "outputs": [],
      "source": [
        "salvar_dataset_csv(estatisticas_jogadores, f\"{RESULTADOS_PATH}/rf3_estatisticas_jogadores_partida.csv\")"
      ]
    }
  ],
  "metadata": {
    "colab": {
      "collapsed_sections": [
        "zk2RydIrU4Oc",
        "Ml13HzSOVs4i",
        "ZDYotAe4d5P_",
        "rub2JCjifzz3",
        "jGuA-l7Ahxs2",
        "4cXykjqVknnH",
        "oWYtYxY2hvKA",
        "OCqnoeBSnO3O",
        "Vlj0rmWdnwxe",
        "safRRJ0EpwX_",
        "E7rPnHzBqHLe",
        "5vs-0_gFqVBu",
        "m7-vRjw_qkQP",
        "MTk8EVSpuSyP",
        "d6JIAfPsuf_W",
        "XmxeZqvuunmO"
      ],
      "provenance": []
    },
    "kernelspec": {
      "display_name": "Python 3",
      "name": "python3"
    },
    "language_info": {
      "codemirror_mode": {
        "name": "ipython",
        "version": 3
      },
      "file_extension": ".py",
      "mimetype": "text/x-python",
      "name": "python",
      "nbconvert_exporter": "python",
      "pygments_lexer": "ipython3",
      "version": "3.11.8"
    },
    "widgets": {
      "application/vnd.jupyter.widget-state+json": {
        "13af86d0a9a94784b744e2f28a6d7912": {
          "model_module": "@jupyter-widgets/controls",
          "model_module_version": "1.5.0",
          "model_name": "FloatProgressModel",
          "state": {
            "_dom_classes": [],
            "_model_module": "@jupyter-widgets/controls",
            "_model_module_version": "1.5.0",
            "_model_name": "FloatProgressModel",
            "_view_count": null,
            "_view_module": "@jupyter-widgets/controls",
            "_view_module_version": "1.5.0",
            "_view_name": "ProgressView",
            "bar_style": "success",
            "description": "",
            "description_tooltip": null,
            "layout": "IPY_MODEL_84aef54119ac4645a6aed56ebef2fc3a",
            "max": 48453,
            "min": 0,
            "orientation": "horizontal",
            "style": "IPY_MODEL_8950d287e9684c648e2372613d9f5c70",
            "value": 48453
          }
        },
        "32ec4871a3124034a7925e8a811f9ae3": {
          "model_module": "@jupyter-widgets/controls",
          "model_module_version": "1.5.0",
          "model_name": "HBoxModel",
          "state": {
            "_dom_classes": [],
            "_model_module": "@jupyter-widgets/controls",
            "_model_module_version": "1.5.0",
            "_model_name": "HBoxModel",
            "_view_count": null,
            "_view_module": "@jupyter-widgets/controls",
            "_view_module_version": "1.5.0",
            "_view_name": "HBoxView",
            "box_style": "",
            "children": [
              "IPY_MODEL_9f6fc8d8659f43a687873e6ff803f824",
              "IPY_MODEL_13af86d0a9a94784b744e2f28a6d7912",
              "IPY_MODEL_ff48e54344024abdab6400f9a1dfc7ca"
            ],
            "layout": "IPY_MODEL_7c55b00132ea4976af0ecd4233615ea3"
          }
        },
        "54694068f7fd4fb3a43ee0c13f513d68": {
          "model_module": "@jupyter-widgets/base",
          "model_module_version": "1.2.0",
          "model_name": "LayoutModel",
          "state": {
            "_model_module": "@jupyter-widgets/base",
            "_model_module_version": "1.2.0",
            "_model_name": "LayoutModel",
            "_view_count": null,
            "_view_module": "@jupyter-widgets/base",
            "_view_module_version": "1.2.0",
            "_view_name": "LayoutView",
            "align_content": null,
            "align_items": null,
            "align_self": null,
            "border": null,
            "bottom": null,
            "display": null,
            "flex": null,
            "flex_flow": null,
            "grid_area": null,
            "grid_auto_columns": null,
            "grid_auto_flow": null,
            "grid_auto_rows": null,
            "grid_column": null,
            "grid_gap": null,
            "grid_row": null,
            "grid_template_areas": null,
            "grid_template_columns": null,
            "grid_template_rows": null,
            "height": null,
            "justify_content": null,
            "justify_items": null,
            "left": null,
            "margin": null,
            "max_height": null,
            "max_width": null,
            "min_height": null,
            "min_width": null,
            "object_fit": null,
            "object_position": null,
            "order": null,
            "overflow": null,
            "overflow_x": null,
            "overflow_y": null,
            "padding": null,
            "right": null,
            "top": null,
            "visibility": null,
            "width": null
          }
        },
        "7c55b00132ea4976af0ecd4233615ea3": {
          "model_module": "@jupyter-widgets/base",
          "model_module_version": "1.2.0",
          "model_name": "LayoutModel",
          "state": {
            "_model_module": "@jupyter-widgets/base",
            "_model_module_version": "1.2.0",
            "_model_name": "LayoutModel",
            "_view_count": null,
            "_view_module": "@jupyter-widgets/base",
            "_view_module_version": "1.2.0",
            "_view_name": "LayoutView",
            "align_content": null,
            "align_items": null,
            "align_self": null,
            "border": null,
            "bottom": null,
            "display": null,
            "flex": null,
            "flex_flow": null,
            "grid_area": null,
            "grid_auto_columns": null,
            "grid_auto_flow": null,
            "grid_auto_rows": null,
            "grid_column": null,
            "grid_gap": null,
            "grid_row": null,
            "grid_template_areas": null,
            "grid_template_columns": null,
            "grid_template_rows": null,
            "height": null,
            "justify_content": null,
            "justify_items": null,
            "left": null,
            "margin": null,
            "max_height": null,
            "max_width": null,
            "min_height": null,
            "min_width": null,
            "object_fit": null,
            "object_position": null,
            "order": null,
            "overflow": null,
            "overflow_x": null,
            "overflow_y": null,
            "padding": null,
            "right": null,
            "top": null,
            "visibility": null,
            "width": null
          }
        },
        "84aef54119ac4645a6aed56ebef2fc3a": {
          "model_module": "@jupyter-widgets/base",
          "model_module_version": "1.2.0",
          "model_name": "LayoutModel",
          "state": {
            "_model_module": "@jupyter-widgets/base",
            "_model_module_version": "1.2.0",
            "_model_name": "LayoutModel",
            "_view_count": null,
            "_view_module": "@jupyter-widgets/base",
            "_view_module_version": "1.2.0",
            "_view_name": "LayoutView",
            "align_content": null,
            "align_items": null,
            "align_self": null,
            "border": null,
            "bottom": null,
            "display": null,
            "flex": null,
            "flex_flow": null,
            "grid_area": null,
            "grid_auto_columns": null,
            "grid_auto_flow": null,
            "grid_auto_rows": null,
            "grid_column": null,
            "grid_gap": null,
            "grid_row": null,
            "grid_template_areas": null,
            "grid_template_columns": null,
            "grid_template_rows": null,
            "height": null,
            "justify_content": null,
            "justify_items": null,
            "left": null,
            "margin": null,
            "max_height": null,
            "max_width": null,
            "min_height": null,
            "min_width": null,
            "object_fit": null,
            "object_position": null,
            "order": null,
            "overflow": null,
            "overflow_x": null,
            "overflow_y": null,
            "padding": null,
            "right": null,
            "top": null,
            "visibility": null,
            "width": null
          }
        },
        "8950d287e9684c648e2372613d9f5c70": {
          "model_module": "@jupyter-widgets/controls",
          "model_module_version": "1.5.0",
          "model_name": "ProgressStyleModel",
          "state": {
            "_model_module": "@jupyter-widgets/controls",
            "_model_module_version": "1.5.0",
            "_model_name": "ProgressStyleModel",
            "_view_count": null,
            "_view_module": "@jupyter-widgets/base",
            "_view_module_version": "1.2.0",
            "_view_name": "StyleView",
            "bar_color": null,
            "description_width": ""
          }
        },
        "9f6fc8d8659f43a687873e6ff803f824": {
          "model_module": "@jupyter-widgets/controls",
          "model_module_version": "1.5.0",
          "model_name": "HTMLModel",
          "state": {
            "_dom_classes": [],
            "_model_module": "@jupyter-widgets/controls",
            "_model_module_version": "1.5.0",
            "_model_name": "HTMLModel",
            "_view_count": null,
            "_view_module": "@jupyter-widgets/controls",
            "_view_module_version": "1.5.0",
            "_view_name": "HTMLView",
            "description": "",
            "description_tooltip": null,
            "layout": "IPY_MODEL_b6edc22a79f54870a8cbbb0f42775a9c",
            "placeholder": "​",
            "style": "IPY_MODEL_f96dd8ffd88944e2baaa89cd443ede27",
            "value": "Downloading https://raw.githubusercontent.com/stanfordnlp/stanza-resources/main/resources_1.9.0.json: "
          }
        },
        "b3f21b75f0d94fc197a8bc157686dbb4": {
          "model_module": "@jupyter-widgets/controls",
          "model_module_version": "1.5.0",
          "model_name": "DescriptionStyleModel",
          "state": {
            "_model_module": "@jupyter-widgets/controls",
            "_model_module_version": "1.5.0",
            "_model_name": "DescriptionStyleModel",
            "_view_count": null,
            "_view_module": "@jupyter-widgets/base",
            "_view_module_version": "1.2.0",
            "_view_name": "StyleView",
            "description_width": ""
          }
        },
        "b6edc22a79f54870a8cbbb0f42775a9c": {
          "model_module": "@jupyter-widgets/base",
          "model_module_version": "1.2.0",
          "model_name": "LayoutModel",
          "state": {
            "_model_module": "@jupyter-widgets/base",
            "_model_module_version": "1.2.0",
            "_model_name": "LayoutModel",
            "_view_count": null,
            "_view_module": "@jupyter-widgets/base",
            "_view_module_version": "1.2.0",
            "_view_name": "LayoutView",
            "align_content": null,
            "align_items": null,
            "align_self": null,
            "border": null,
            "bottom": null,
            "display": null,
            "flex": null,
            "flex_flow": null,
            "grid_area": null,
            "grid_auto_columns": null,
            "grid_auto_flow": null,
            "grid_auto_rows": null,
            "grid_column": null,
            "grid_gap": null,
            "grid_row": null,
            "grid_template_areas": null,
            "grid_template_columns": null,
            "grid_template_rows": null,
            "height": null,
            "justify_content": null,
            "justify_items": null,
            "left": null,
            "margin": null,
            "max_height": null,
            "max_width": null,
            "min_height": null,
            "min_width": null,
            "object_fit": null,
            "object_position": null,
            "order": null,
            "overflow": null,
            "overflow_x": null,
            "overflow_y": null,
            "padding": null,
            "right": null,
            "top": null,
            "visibility": null,
            "width": null
          }
        },
        "f96dd8ffd88944e2baaa89cd443ede27": {
          "model_module": "@jupyter-widgets/controls",
          "model_module_version": "1.5.0",
          "model_name": "DescriptionStyleModel",
          "state": {
            "_model_module": "@jupyter-widgets/controls",
            "_model_module_version": "1.5.0",
            "_model_name": "DescriptionStyleModel",
            "_view_count": null,
            "_view_module": "@jupyter-widgets/base",
            "_view_module_version": "1.2.0",
            "_view_name": "StyleView",
            "description_width": ""
          }
        },
        "ff48e54344024abdab6400f9a1dfc7ca": {
          "model_module": "@jupyter-widgets/controls",
          "model_module_version": "1.5.0",
          "model_name": "HTMLModel",
          "state": {
            "_dom_classes": [],
            "_model_module": "@jupyter-widgets/controls",
            "_model_module_version": "1.5.0",
            "_model_name": "HTMLModel",
            "_view_count": null,
            "_view_module": "@jupyter-widgets/controls",
            "_view_module_version": "1.5.0",
            "_view_name": "HTMLView",
            "description": "",
            "description_tooltip": null,
            "layout": "IPY_MODEL_54694068f7fd4fb3a43ee0c13f513d68",
            "placeholder": "​",
            "style": "IPY_MODEL_b3f21b75f0d94fc197a8bc157686dbb4",
            "value": " 392k/? [00:00&lt;00:00, 6.48MB/s]"
          }
        }
      }
    }
  },
  "nbformat": 4,
  "nbformat_minor": 0
}
