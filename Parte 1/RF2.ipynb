{
 "cells": [
  {
   "cell_type": "markdown",
   "metadata": {},
   "source": [
    "Fundamentos de ciência de dados - Luiz Davi e Thiago Cavalcanti"
   ]
  },
  {
   "cell_type": "code",
   "metadata": {
    "ExecuteTime": {
     "end_time": "2025-01-22T23:23:38.088978Z",
     "start_time": "2025-01-22T23:23:37.612347Z"
    }
   },
   "source": [
    "from nba_api_time_utils import resgatar_classificacao_por_temporada, salvar_dataset_csv\n",
    "from constantes import TEMPORADA_ATUAL, RESULTADOS_PATH"
   ],
   "outputs": [],
   "execution_count": 1
  },
  {
   "cell_type": "markdown",
   "metadata": {},
   "source": [
    "# RF2 – Apresentar a classificação atual dos times [Agrupados por Conferência]"
   ]
  },
  {
   "cell_type": "code",
   "metadata": {
    "ExecuteTime": {
     "end_time": "2025-01-22T23:23:38.825847Z",
     "start_time": "2025-01-22T23:23:38.513697Z"
    }
   },
   "source": [
    "classificacao_por_temporada = resgatar_classificacao_por_temporada(TEMPORADA_ATUAL)\n",
    "salvar_dataset_csv(classificacao_por_temporada, f\"{RESULTADOS_PATH}/rf2_classificacao_por_temporada.csv\")\n",
    "\n",
    "classificacao_por_temporada"
   ],
   "outputs": [
    {
     "data": {
      "text/plain": [
       "   Conferência Leste      Conferência Oeste     \n",
       "            TeamName WINS          TeamName WINS\n",
       "0          Cavaliers   36           Thunder   35\n",
       "1            Celtics   30           Rockets   28\n",
       "2             Knicks   29         Grizzlies   28\n",
       "3              Bucks   24           Nuggets   27\n",
       "4             Pacers   24          Clippers   24\n",
       "5              Magic   23         Mavericks   23\n",
       "6              Hawks   22            Lakers   23\n",
       "7            Pistons   22             Kings   22\n",
       "8               Heat   21      Timberwolves   22\n",
       "9              Bulls   19              Suns   21\n",
       "10             76ers   15          Warriors   21\n",
       "11              Nets   14             Spurs   19\n",
       "12           Hornets   11     Trail Blazers   15\n",
       "13           Raptors   11          Pelicans   12\n",
       "14           Wizards    6              Jazz   10"
      ],
      "text/html": [
       "<div>\n",
       "<style scoped>\n",
       "    .dataframe tbody tr th:only-of-type {\n",
       "        vertical-align: middle;\n",
       "    }\n",
       "\n",
       "    .dataframe tbody tr th {\n",
       "        vertical-align: top;\n",
       "    }\n",
       "\n",
       "    .dataframe thead tr th {\n",
       "        text-align: left;\n",
       "    }\n",
       "</style>\n",
       "<table border=\"1\" class=\"dataframe\">\n",
       "  <thead>\n",
       "    <tr>\n",
       "      <th></th>\n",
       "      <th colspan=\"2\" halign=\"left\">Conferência Leste</th>\n",
       "      <th colspan=\"2\" halign=\"left\">Conferência Oeste</th>\n",
       "    </tr>\n",
       "    <tr>\n",
       "      <th></th>\n",
       "      <th>TeamName</th>\n",
       "      <th>WINS</th>\n",
       "      <th>TeamName</th>\n",
       "      <th>WINS</th>\n",
       "    </tr>\n",
       "  </thead>\n",
       "  <tbody>\n",
       "    <tr>\n",
       "      <th>0</th>\n",
       "      <td>Cavaliers</td>\n",
       "      <td>36</td>\n",
       "      <td>Thunder</td>\n",
       "      <td>35</td>\n",
       "    </tr>\n",
       "    <tr>\n",
       "      <th>1</th>\n",
       "      <td>Celtics</td>\n",
       "      <td>30</td>\n",
       "      <td>Rockets</td>\n",
       "      <td>28</td>\n",
       "    </tr>\n",
       "    <tr>\n",
       "      <th>2</th>\n",
       "      <td>Knicks</td>\n",
       "      <td>29</td>\n",
       "      <td>Grizzlies</td>\n",
       "      <td>28</td>\n",
       "    </tr>\n",
       "    <tr>\n",
       "      <th>3</th>\n",
       "      <td>Bucks</td>\n",
       "      <td>24</td>\n",
       "      <td>Nuggets</td>\n",
       "      <td>27</td>\n",
       "    </tr>\n",
       "    <tr>\n",
       "      <th>4</th>\n",
       "      <td>Pacers</td>\n",
       "      <td>24</td>\n",
       "      <td>Clippers</td>\n",
       "      <td>24</td>\n",
       "    </tr>\n",
       "    <tr>\n",
       "      <th>5</th>\n",
       "      <td>Magic</td>\n",
       "      <td>23</td>\n",
       "      <td>Mavericks</td>\n",
       "      <td>23</td>\n",
       "    </tr>\n",
       "    <tr>\n",
       "      <th>6</th>\n",
       "      <td>Hawks</td>\n",
       "      <td>22</td>\n",
       "      <td>Lakers</td>\n",
       "      <td>23</td>\n",
       "    </tr>\n",
       "    <tr>\n",
       "      <th>7</th>\n",
       "      <td>Pistons</td>\n",
       "      <td>22</td>\n",
       "      <td>Kings</td>\n",
       "      <td>22</td>\n",
       "    </tr>\n",
       "    <tr>\n",
       "      <th>8</th>\n",
       "      <td>Heat</td>\n",
       "      <td>21</td>\n",
       "      <td>Timberwolves</td>\n",
       "      <td>22</td>\n",
       "    </tr>\n",
       "    <tr>\n",
       "      <th>9</th>\n",
       "      <td>Bulls</td>\n",
       "      <td>19</td>\n",
       "      <td>Suns</td>\n",
       "      <td>21</td>\n",
       "    </tr>\n",
       "    <tr>\n",
       "      <th>10</th>\n",
       "      <td>76ers</td>\n",
       "      <td>15</td>\n",
       "      <td>Warriors</td>\n",
       "      <td>21</td>\n",
       "    </tr>\n",
       "    <tr>\n",
       "      <th>11</th>\n",
       "      <td>Nets</td>\n",
       "      <td>14</td>\n",
       "      <td>Spurs</td>\n",
       "      <td>19</td>\n",
       "    </tr>\n",
       "    <tr>\n",
       "      <th>12</th>\n",
       "      <td>Hornets</td>\n",
       "      <td>11</td>\n",
       "      <td>Trail Blazers</td>\n",
       "      <td>15</td>\n",
       "    </tr>\n",
       "    <tr>\n",
       "      <th>13</th>\n",
       "      <td>Raptors</td>\n",
       "      <td>11</td>\n",
       "      <td>Pelicans</td>\n",
       "      <td>12</td>\n",
       "    </tr>\n",
       "    <tr>\n",
       "      <th>14</th>\n",
       "      <td>Wizards</td>\n",
       "      <td>6</td>\n",
       "      <td>Jazz</td>\n",
       "      <td>10</td>\n",
       "    </tr>\n",
       "  </tbody>\n",
       "</table>\n",
       "</div>"
      ]
     },
     "execution_count": 2,
     "metadata": {},
     "output_type": "execute_result"
    }
   ],
   "execution_count": 2
  }
 ],
 "metadata": {
  "kernelspec": {
   "display_name": "venv",
   "language": "python",
   "name": "python3"
  },
  "language_info": {
   "codemirror_mode": {
    "name": "ipython",
    "version": 3
   },
   "file_extension": ".py",
   "mimetype": "text/x-python",
   "name": "python",
   "nbconvert_exporter": "python",
   "pygments_lexer": "ipython3",
   "version": "3.10.0"
  }
 },
 "nbformat": 4,
 "nbformat_minor": 2
}
