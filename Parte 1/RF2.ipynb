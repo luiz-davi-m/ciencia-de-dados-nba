{
 "cells": [
  {
   "cell_type": "markdown",
   "metadata": {},
   "source": [
    "Fundamentos de ciência de dados - Luiz Davi e Thiago Cavalcanti"
   ]
  },
  {
   "cell_type": "code",
   "execution_count": 1,
   "metadata": {
    "ExecuteTime": {
     "end_time": "2025-01-17T01:51:07.760205Z",
     "start_time": "2025-01-17T01:51:07.338760Z"
    }
   },
   "outputs": [],
   "source": [
    "from nba_api_utils import *\n",
    "from nba_api.stats.endpoints import teamgamelog\n",
    "from nba_api.stats.library.parameters import SeasonAll\n",
    "import pandas as pd"
   ]
  },
  {
   "cell_type": "markdown",
   "metadata": {},
   "source": [
    "# RF2 – Apresentar a classificação atual dos times [Agrupados por Conferência]"
   ]
  },
  {
   "cell_type": "code",
   "execution_count": 2,
   "metadata": {
    "ExecuteTime": {
     "end_time": "2025-01-17T01:51:09.158848Z",
     "start_time": "2025-01-17T01:51:08.847160Z"
    }
   },
   "outputs": [
    {
     "data": {
      "text/html": [
       "<div>\n",
       "<style scoped>\n",
       "    .dataframe tbody tr th:only-of-type {\n",
       "        vertical-align: middle;\n",
       "    }\n",
       "\n",
       "    .dataframe tbody tr th {\n",
       "        vertical-align: top;\n",
       "    }\n",
       "\n",
       "    .dataframe thead tr th {\n",
       "        text-align: left;\n",
       "    }\n",
       "</style>\n",
       "<table border=\"1\" class=\"dataframe\">\n",
       "  <thead>\n",
       "    <tr>\n",
       "      <th></th>\n",
       "      <th colspan=\"2\" halign=\"left\">Conferência Leste</th>\n",
       "      <th colspan=\"2\" halign=\"left\">Conferência Oeste</th>\n",
       "    </tr>\n",
       "    <tr>\n",
       "      <th></th>\n",
       "      <th>TeamName</th>\n",
       "      <th>WINS</th>\n",
       "      <th>TeamName</th>\n",
       "      <th>WINS</th>\n",
       "    </tr>\n",
       "  </thead>\n",
       "  <tbody>\n",
       "    <tr>\n",
       "      <th>0</th>\n",
       "      <td>Cavaliers</td>\n",
       "      <td>34</td>\n",
       "      <td>Thunder</td>\n",
       "      <td>33</td>\n",
       "    </tr>\n",
       "    <tr>\n",
       "      <th>1</th>\n",
       "      <td>Celtics</td>\n",
       "      <td>28</td>\n",
       "      <td>Rockets</td>\n",
       "      <td>27</td>\n",
       "    </tr>\n",
       "    <tr>\n",
       "      <th>2</th>\n",
       "      <td>Knicks</td>\n",
       "      <td>27</td>\n",
       "      <td>Grizzlies</td>\n",
       "      <td>26</td>\n",
       "    </tr>\n",
       "    <tr>\n",
       "      <th>3</th>\n",
       "      <td>Magic</td>\n",
       "      <td>23</td>\n",
       "      <td>Nuggets</td>\n",
       "      <td>24</td>\n",
       "    </tr>\n",
       "    <tr>\n",
       "      <th>4</th>\n",
       "      <td>Bucks</td>\n",
       "      <td>22</td>\n",
       "      <td>Clippers</td>\n",
       "      <td>22</td>\n",
       "    </tr>\n",
       "    <tr>\n",
       "      <th>5</th>\n",
       "      <td>Pacers</td>\n",
       "      <td>22</td>\n",
       "      <td>Mavericks</td>\n",
       "      <td>22</td>\n",
       "    </tr>\n",
       "    <tr>\n",
       "      <th>6</th>\n",
       "      <td>Hawks</td>\n",
       "      <td>21</td>\n",
       "      <td>Timberwolves</td>\n",
       "      <td>21</td>\n",
       "    </tr>\n",
       "    <tr>\n",
       "      <th>7</th>\n",
       "      <td>Pistons</td>\n",
       "      <td>21</td>\n",
       "      <td>Lakers</td>\n",
       "      <td>21</td>\n",
       "    </tr>\n",
       "    <tr>\n",
       "      <th>8</th>\n",
       "      <td>Heat</td>\n",
       "      <td>20</td>\n",
       "      <td>Kings</td>\n",
       "      <td>20</td>\n",
       "    </tr>\n",
       "    <tr>\n",
       "      <th>9</th>\n",
       "      <td>Bulls</td>\n",
       "      <td>18</td>\n",
       "      <td>Warriors</td>\n",
       "      <td>20</td>\n",
       "    </tr>\n",
       "    <tr>\n",
       "      <th>10</th>\n",
       "      <td>76ers</td>\n",
       "      <td>15</td>\n",
       "      <td>Suns</td>\n",
       "      <td>19</td>\n",
       "    </tr>\n",
       "    <tr>\n",
       "      <th>11</th>\n",
       "      <td>Nets</td>\n",
       "      <td>14</td>\n",
       "      <td>Spurs</td>\n",
       "      <td>19</td>\n",
       "    </tr>\n",
       "    <tr>\n",
       "      <th>12</th>\n",
       "      <td>Raptors</td>\n",
       "      <td>10</td>\n",
       "      <td>Trail Blazers</td>\n",
       "      <td>13</td>\n",
       "    </tr>\n",
       "    <tr>\n",
       "      <th>13</th>\n",
       "      <td>Hornets</td>\n",
       "      <td>9</td>\n",
       "      <td>Jazz</td>\n",
       "      <td>10</td>\n",
       "    </tr>\n",
       "    <tr>\n",
       "      <th>14</th>\n",
       "      <td>Wizards</td>\n",
       "      <td>6</td>\n",
       "      <td>Pelicans</td>\n",
       "      <td>10</td>\n",
       "    </tr>\n",
       "  </tbody>\n",
       "</table>\n",
       "</div>"
      ],
      "text/plain": [
       "   Conferência Leste      Conferência Oeste     \n",
       "            TeamName WINS          TeamName WINS\n",
       "0          Cavaliers   34           Thunder   33\n",
       "1            Celtics   28           Rockets   27\n",
       "2             Knicks   27         Grizzlies   26\n",
       "3              Magic   23           Nuggets   24\n",
       "4              Bucks   22          Clippers   22\n",
       "5             Pacers   22         Mavericks   22\n",
       "6              Hawks   21      Timberwolves   21\n",
       "7            Pistons   21            Lakers   21\n",
       "8               Heat   20             Kings   20\n",
       "9              Bulls   18          Warriors   20\n",
       "10             76ers   15              Suns   19\n",
       "11              Nets   14             Spurs   19\n",
       "12           Raptors   10     Trail Blazers   13\n",
       "13           Hornets    9              Jazz   10\n",
       "14           Wizards    6          Pelicans   10"
      ]
     },
     "execution_count": 2,
     "metadata": {},
     "output_type": "execute_result"
    }
   ],
   "source": [
    "resgatar_clissificao_atual()"
   ]
  }
 ],
 "metadata": {
  "kernelspec": {
   "display_name": "venv",
   "language": "python",
   "name": "python3"
  },
  "language_info": {
   "codemirror_mode": {
    "name": "ipython",
    "version": 3
   },
   "file_extension": ".py",
   "mimetype": "text/x-python",
   "name": "python",
   "nbconvert_exporter": "python",
   "pygments_lexer": "ipython3",
   "version": "3.10.0rc2"
  }
 },
 "nbformat": 4,
 "nbformat_minor": 2
}
