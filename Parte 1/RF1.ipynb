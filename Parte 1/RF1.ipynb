{
 "cells": [
  {
   "cell_type": "markdown",
   "metadata": {},
   "source": [
    "Fundamentos de ciência de dados - Luiz Davi e Thiago Cavalcanti"
   ]
  },
  {
   "cell_type": "code",
   "execution_count": 1,
   "metadata": {
    "ExecuteTime": {
     "end_time": "2025-01-17T01:43:55.875961Z",
     "start_time": "2025-01-17T01:43:55.867438Z"
    }
   },
   "outputs": [],
   "source": [
    "from nba_api_time_utils import resgatar_times_dividos_por_conferencia, salvar_dataset_csv\n",
    "from constantes import RESULTADOS_PATH"
   ]
  },
  {
   "cell_type": "markdown",
   "metadata": {},
   "source": [
    "# RF1 – Listar todos os times da NBA agrupados por Conferência"
   ]
  },
  {
   "cell_type": "code",
   "execution_count": 2,
   "metadata": {
    "ExecuteTime": {
     "end_time": "2025-01-17T01:43:57.648105Z",
     "start_time": "2025-01-17T01:43:57.384953Z"
    }
   },
   "outputs": [
    {
     "data": {
      "text/html": [
       "<div>\n",
       "<style scoped>\n",
       "    .dataframe tbody tr th:only-of-type {\n",
       "        vertical-align: middle;\n",
       "    }\n",
       "\n",
       "    .dataframe tbody tr th {\n",
       "        vertical-align: top;\n",
       "    }\n",
       "\n",
       "    .dataframe thead th {\n",
       "        text-align: right;\n",
       "    }\n",
       "</style>\n",
       "<table border=\"1\" class=\"dataframe\">\n",
       "  <thead>\n",
       "    <tr style=\"text-align: right;\">\n",
       "      <th></th>\n",
       "      <th>Conferência Leste</th>\n",
       "      <th>Conferência Oeste</th>\n",
       "    </tr>\n",
       "  </thead>\n",
       "  <tbody>\n",
       "    <tr>\n",
       "      <th>0</th>\n",
       "      <td>Cavaliers</td>\n",
       "      <td>Thunder</td>\n",
       "    </tr>\n",
       "    <tr>\n",
       "      <th>1</th>\n",
       "      <td>Celtics</td>\n",
       "      <td>Rockets</td>\n",
       "    </tr>\n",
       "    <tr>\n",
       "      <th>2</th>\n",
       "      <td>Knicks</td>\n",
       "      <td>Grizzlies</td>\n",
       "    </tr>\n",
       "    <tr>\n",
       "      <th>3</th>\n",
       "      <td>Bucks</td>\n",
       "      <td>Nuggets</td>\n",
       "    </tr>\n",
       "    <tr>\n",
       "      <th>4</th>\n",
       "      <td>Pacers</td>\n",
       "      <td>Clippers</td>\n",
       "    </tr>\n",
       "    <tr>\n",
       "      <th>5</th>\n",
       "      <td>Magic</td>\n",
       "      <td>Lakers</td>\n",
       "    </tr>\n",
       "    <tr>\n",
       "      <th>6</th>\n",
       "      <td>Hawks</td>\n",
       "      <td>Mavericks</td>\n",
       "    </tr>\n",
       "    <tr>\n",
       "      <th>7</th>\n",
       "      <td>Pistons</td>\n",
       "      <td>Timberwolves</td>\n",
       "    </tr>\n",
       "    <tr>\n",
       "      <th>8</th>\n",
       "      <td>Heat</td>\n",
       "      <td>Kings</td>\n",
       "    </tr>\n",
       "    <tr>\n",
       "      <th>9</th>\n",
       "      <td>Bulls</td>\n",
       "      <td>Suns</td>\n",
       "    </tr>\n",
       "    <tr>\n",
       "      <th>10</th>\n",
       "      <td>76ers</td>\n",
       "      <td>Warriors</td>\n",
       "    </tr>\n",
       "    <tr>\n",
       "      <th>11</th>\n",
       "      <td>Nets</td>\n",
       "      <td>Spurs</td>\n",
       "    </tr>\n",
       "    <tr>\n",
       "      <th>12</th>\n",
       "      <td>Hornets</td>\n",
       "      <td>Trail Blazers</td>\n",
       "    </tr>\n",
       "    <tr>\n",
       "      <th>13</th>\n",
       "      <td>Raptors</td>\n",
       "      <td>Pelicans</td>\n",
       "    </tr>\n",
       "    <tr>\n",
       "      <th>14</th>\n",
       "      <td>Wizards</td>\n",
       "      <td>Jazz</td>\n",
       "    </tr>\n",
       "  </tbody>\n",
       "</table>\n",
       "</div>"
      ],
      "text/plain": [
       "   Conferência Leste Conferência Oeste\n",
       "0          Cavaliers           Thunder\n",
       "1            Celtics           Rockets\n",
       "2             Knicks         Grizzlies\n",
       "3              Bucks           Nuggets\n",
       "4             Pacers          Clippers\n",
       "5              Magic            Lakers\n",
       "6              Hawks         Mavericks\n",
       "7            Pistons      Timberwolves\n",
       "8               Heat             Kings\n",
       "9              Bulls              Suns\n",
       "10             76ers          Warriors\n",
       "11              Nets             Spurs\n",
       "12           Hornets     Trail Blazers\n",
       "13           Raptors          Pelicans\n",
       "14           Wizards              Jazz"
      ]
     },
     "execution_count": 2,
     "metadata": {},
     "output_type": "execute_result"
    }
   ],
   "source": [
    "times = resgatar_times_dividos_por_conferencia()\n",
    "salvar_dataset_csv(times, f\"{RESULTADOS_PATH}/rf1_times.csv\")\n",
    "\n",
    "times"
   ]
  }
 ],
 "metadata": {
  "kernelspec": {
   "display_name": "venv",
   "language": "python",
   "name": "python3"
  },
  "language_info": {
   "codemirror_mode": {
    "name": "ipython",
    "version": 3
   },
   "file_extension": ".py",
   "mimetype": "text/x-python",
   "name": "python",
   "nbconvert_exporter": "python",
   "pygments_lexer": "ipython3",
   "version": "3.10.0rc2"
  }
 },
 "nbformat": 4,
 "nbformat_minor": 2
}
