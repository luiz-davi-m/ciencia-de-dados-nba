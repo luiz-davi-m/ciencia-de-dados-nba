{
  "cells": [
    {
      "cell_type": "markdown",
      "metadata": {
        "id": "Vl4aVyevVSCq"
      },
      "source": [
        "Fundamentos de ciência de dados - Luiz Davi e Thiago Cavalcanti"
      ]
    },
    {
      "cell_type": "code",
      "execution_count": 1,
      "metadata": {
        "id": "SrcEncChW-aD"
      },
      "outputs": [],
      "source": [
        "from nba_api_utils import obter_jogos_por_time_e_temporada, salvar_dataset_csv\n",
        "from constantes import NOME_TIME, TEMPORADA_ATUAL, RESULTADOS_PATH\n",
        "import pandas as pd"
      ]
    },
    {
      "cell_type": "markdown",
      "metadata": {},
      "source": [
        "# RF3 – Apresentar o total de vitórias e derrotas do time, separados por partidas jogadas em casa (mandante) e fora de casa (visitante), conforme Tabela 2;"
      ]
    },
    {
      "cell_type": "code",
      "execution_count": 1,
      "metadata": {},
      "outputs": [
        {
          "ename": "NameError",
          "evalue": "name 'obter_jogos_por_time_e_temporada' is not defined",
          "output_type": "error",
          "traceback": [
            "\u001b[1;31m---------------------------------------------------------------------------\u001b[0m",
            "\u001b[1;31mNameError\u001b[0m                                 Traceback (most recent call last)",
            "Cell \u001b[1;32mIn[1], line 1\u001b[0m\n\u001b[1;32m----> 1\u001b[0m dados_temporada_atual \u001b[38;5;241m=\u001b[39m \u001b[43mobter_jogos_por_time_e_temporada\u001b[49m(NOME_TIME, TEMPORADA_ATUAL)\n\u001b[0;32m      2\u001b[0m salvar_dataset_csv(dados_temporada_atual, \u001b[38;5;124mf\u001b[39m\u001b[38;5;124m\"\u001b[39m\u001b[38;5;132;01m{\u001b[39;00mRESULTADOS_PATH\u001b[38;5;132;01m}\u001b[39;00m\u001b[38;5;124m/rf3_total_vitoria_derrotas_denver.csv\u001b[39m\u001b[38;5;124m\"\u001b[39m)\n\u001b[0;32m      4\u001b[0m dados_temporada_atual\n",
            "\u001b[1;31mNameError\u001b[0m: name 'obter_jogos_por_time_e_temporada' is not defined"
          ]
        }
      ],
      "source": [
        "dados_temporada_atual = obter_jogos_por_time_e_temporada(NOME_TIME, TEMPORADA_ATUAL)\n",
        "salvar_dataset_csv(dados_temporada_atual, f\"{RESULTADOS_PATH}/rf3_total_vitoria_derrotas_denver.csv\")\n",
        "\n",
        "dados_temporada_atual"
      ]
    },
    {
      "cell_type": "code",
      "execution_count": 3,
      "metadata": {},
      "outputs": [],
      "source": [
        "def obter_estatisticas_de_resultados(dados_temporada):\n",
        "    total_vitorias = 0\n",
        "    total_derrotas = 0\n",
        "    vitorias_em_casa = 0\n",
        "    derrotas_em_casa = 0\n",
        "    vitorias_fora = 0\n",
        "    derrotas_fora = 0\n",
        "\n",
        "    for indice, linha in dados_temporada.iterrows():\n",
        "        resultado = linha['WL']\n",
        "        eh_visitante = '@' in linha['MATCHUP']\n",
        "        if resultado == 'W':\n",
        "            total_vitorias += 1\n",
        "            if eh_visitante:\n",
        "                vitorias_fora += 1\n",
        "            else:\n",
        "                vitorias_em_casa += 1\n",
        "        else:\n",
        "            total_derrotas += 1\n",
        "            if eh_visitante:\n",
        "                derrotas_fora += 1\n",
        "            else:\n",
        "                derrotas_em_casa += 1\n",
        "\n",
        "    estatisticas = {\n",
        "        'Total de vitórias': [total_vitorias],\n",
        "        'Total de vitórias em casa': [vitorias_em_casa],\n",
        "        'Total de vitórias fora de casa': [vitorias_fora],\n",
        "        'Total de derrotas': [total_derrotas],\n",
        "        'Total de derrotas em casa': [derrotas_em_casa],\n",
        "        'Total de derrotas fora de casa': [derrotas_fora]\n",
        "    }\n",
        "\n",
        "    return pd.DataFrame(estatisticas)\n"
      ]
    },
    {
      "cell_type": "code",
      "execution_count": 4,
      "metadata": {},
      "outputs": [
        {
          "data": {
            "text/html": [
              "<div>\n",
              "<style scoped>\n",
              "    .dataframe tbody tr th:only-of-type {\n",
              "        vertical-align: middle;\n",
              "    }\n",
              "\n",
              "    .dataframe tbody tr th {\n",
              "        vertical-align: top;\n",
              "    }\n",
              "\n",
              "    .dataframe thead th {\n",
              "        text-align: right;\n",
              "    }\n",
              "</style>\n",
              "<table border=\"1\" class=\"dataframe\">\n",
              "  <thead>\n",
              "    <tr style=\"text-align: right;\">\n",
              "      <th></th>\n",
              "      <th>Total de vitórias</th>\n",
              "      <th>Total de vitórias em casa</th>\n",
              "      <th>Total de vitórias fora de casa</th>\n",
              "      <th>Total de derrotas</th>\n",
              "      <th>Total de derrotas em casa</th>\n",
              "      <th>Total de derrotas fora de casa</th>\n",
              "    </tr>\n",
              "  </thead>\n",
              "  <tbody>\n",
              "    <tr>\n",
              "      <th></th>\n",
              "      <td>25</td>\n",
              "      <td>12</td>\n",
              "      <td>13</td>\n",
              "      <td>16</td>\n",
              "      <td>8</td>\n",
              "      <td>8</td>\n",
              "    </tr>\n",
              "  </tbody>\n",
              "</table>\n",
              "</div>"
            ],
            "text/plain": [
              "  Total de vitórias  Total de vitórias em casa  \\\n",
              "                 25                         12   \n",
              "\n",
              "  Total de vitórias fora de casa  Total de derrotas  \\\n",
              "                              13                 16   \n",
              "\n",
              "  Total de derrotas em casa  Total de derrotas fora de casa  \n",
              "                          8                               8  "
            ]
          },
          "execution_count": 4,
          "metadata": {},
          "output_type": "execute_result"
        }
      ],
      "source": [
        "estatisticas_atuais = obter_estatisticas_de_resultados(dados_temporada_atual)\n",
        "estatisticas_atuais.index = ['']\n",
        "estatisticas_atuais"
      ]
    }
  ],
  "metadata": {
    "colab": {
      "collapsed_sections": [
        "zk2RydIrU4Oc",
        "Ml13HzSOVs4i",
        "ZDYotAe4d5P_",
        "rub2JCjifzz3",
        "jGuA-l7Ahxs2",
        "4cXykjqVknnH",
        "oWYtYxY2hvKA",
        "OCqnoeBSnO3O",
        "Vlj0rmWdnwxe",
        "safRRJ0EpwX_",
        "E7rPnHzBqHLe",
        "5vs-0_gFqVBu",
        "m7-vRjw_qkQP",
        "MTk8EVSpuSyP",
        "d6JIAfPsuf_W",
        "XmxeZqvuunmO"
      ],
      "provenance": []
    },
    "kernelspec": {
      "display_name": "venv",
      "language": "python",
      "name": "python3"
    },
    "language_info": {
      "codemirror_mode": {
        "name": "ipython",
        "version": 3
      },
      "file_extension": ".py",
      "mimetype": "text/x-python",
      "name": "python",
      "nbconvert_exporter": "python",
      "pygments_lexer": "ipython3",
      "version": "3.10.0rc2"
    },
    "widgets": {
      "application/vnd.jupyter.widget-state+json": {
        "13af86d0a9a94784b744e2f28a6d7912": {
          "model_module": "@jupyter-widgets/controls",
          "model_module_version": "1.5.0",
          "model_name": "FloatProgressModel",
          "state": {
            "_dom_classes": [],
            "_model_module": "@jupyter-widgets/controls",
            "_model_module_version": "1.5.0",
            "_model_name": "FloatProgressModel",
            "_view_count": null,
            "_view_module": "@jupyter-widgets/controls",
            "_view_module_version": "1.5.0",
            "_view_name": "ProgressView",
            "bar_style": "success",
            "description": "",
            "description_tooltip": null,
            "layout": "IPY_MODEL_84aef54119ac4645a6aed56ebef2fc3a",
            "max": 48453,
            "min": 0,
            "orientation": "horizontal",
            "style": "IPY_MODEL_8950d287e9684c648e2372613d9f5c70",
            "value": 48453
          }
        },
        "32ec4871a3124034a7925e8a811f9ae3": {
          "model_module": "@jupyter-widgets/controls",
          "model_module_version": "1.5.0",
          "model_name": "HBoxModel",
          "state": {
            "_dom_classes": [],
            "_model_module": "@jupyter-widgets/controls",
            "_model_module_version": "1.5.0",
            "_model_name": "HBoxModel",
            "_view_count": null,
            "_view_module": "@jupyter-widgets/controls",
            "_view_module_version": "1.5.0",
            "_view_name": "HBoxView",
            "box_style": "",
            "children": [
              "IPY_MODEL_9f6fc8d8659f43a687873e6ff803f824",
              "IPY_MODEL_13af86d0a9a94784b744e2f28a6d7912",
              "IPY_MODEL_ff48e54344024abdab6400f9a1dfc7ca"
            ],
            "layout": "IPY_MODEL_7c55b00132ea4976af0ecd4233615ea3"
          }
        },
        "54694068f7fd4fb3a43ee0c13f513d68": {
          "model_module": "@jupyter-widgets/base",
          "model_module_version": "1.2.0",
          "model_name": "LayoutModel",
          "state": {
            "_model_module": "@jupyter-widgets/base",
            "_model_module_version": "1.2.0",
            "_model_name": "LayoutModel",
            "_view_count": null,
            "_view_module": "@jupyter-widgets/base",
            "_view_module_version": "1.2.0",
            "_view_name": "LayoutView",
            "align_content": null,
            "align_items": null,
            "align_self": null,
            "border": null,
            "bottom": null,
            "display": null,
            "flex": null,
            "flex_flow": null,
            "grid_area": null,
            "grid_auto_columns": null,
            "grid_auto_flow": null,
            "grid_auto_rows": null,
            "grid_column": null,
            "grid_gap": null,
            "grid_row": null,
            "grid_template_areas": null,
            "grid_template_columns": null,
            "grid_template_rows": null,
            "height": null,
            "justify_content": null,
            "justify_items": null,
            "left": null,
            "margin": null,
            "max_height": null,
            "max_width": null,
            "min_height": null,
            "min_width": null,
            "object_fit": null,
            "object_position": null,
            "order": null,
            "overflow": null,
            "overflow_x": null,
            "overflow_y": null,
            "padding": null,
            "right": null,
            "top": null,
            "visibility": null,
            "width": null
          }
        },
        "7c55b00132ea4976af0ecd4233615ea3": {
          "model_module": "@jupyter-widgets/base",
          "model_module_version": "1.2.0",
          "model_name": "LayoutModel",
          "state": {
            "_model_module": "@jupyter-widgets/base",
            "_model_module_version": "1.2.0",
            "_model_name": "LayoutModel",
            "_view_count": null,
            "_view_module": "@jupyter-widgets/base",
            "_view_module_version": "1.2.0",
            "_view_name": "LayoutView",
            "align_content": null,
            "align_items": null,
            "align_self": null,
            "border": null,
            "bottom": null,
            "display": null,
            "flex": null,
            "flex_flow": null,
            "grid_area": null,
            "grid_auto_columns": null,
            "grid_auto_flow": null,
            "grid_auto_rows": null,
            "grid_column": null,
            "grid_gap": null,
            "grid_row": null,
            "grid_template_areas": null,
            "grid_template_columns": null,
            "grid_template_rows": null,
            "height": null,
            "justify_content": null,
            "justify_items": null,
            "left": null,
            "margin": null,
            "max_height": null,
            "max_width": null,
            "min_height": null,
            "min_width": null,
            "object_fit": null,
            "object_position": null,
            "order": null,
            "overflow": null,
            "overflow_x": null,
            "overflow_y": null,
            "padding": null,
            "right": null,
            "top": null,
            "visibility": null,
            "width": null
          }
        },
        "84aef54119ac4645a6aed56ebef2fc3a": {
          "model_module": "@jupyter-widgets/base",
          "model_module_version": "1.2.0",
          "model_name": "LayoutModel",
          "state": {
            "_model_module": "@jupyter-widgets/base",
            "_model_module_version": "1.2.0",
            "_model_name": "LayoutModel",
            "_view_count": null,
            "_view_module": "@jupyter-widgets/base",
            "_view_module_version": "1.2.0",
            "_view_name": "LayoutView",
            "align_content": null,
            "align_items": null,
            "align_self": null,
            "border": null,
            "bottom": null,
            "display": null,
            "flex": null,
            "flex_flow": null,
            "grid_area": null,
            "grid_auto_columns": null,
            "grid_auto_flow": null,
            "grid_auto_rows": null,
            "grid_column": null,
            "grid_gap": null,
            "grid_row": null,
            "grid_template_areas": null,
            "grid_template_columns": null,
            "grid_template_rows": null,
            "height": null,
            "justify_content": null,
            "justify_items": null,
            "left": null,
            "margin": null,
            "max_height": null,
            "max_width": null,
            "min_height": null,
            "min_width": null,
            "object_fit": null,
            "object_position": null,
            "order": null,
            "overflow": null,
            "overflow_x": null,
            "overflow_y": null,
            "padding": null,
            "right": null,
            "top": null,
            "visibility": null,
            "width": null
          }
        },
        "8950d287e9684c648e2372613d9f5c70": {
          "model_module": "@jupyter-widgets/controls",
          "model_module_version": "1.5.0",
          "model_name": "ProgressStyleModel",
          "state": {
            "_model_module": "@jupyter-widgets/controls",
            "_model_module_version": "1.5.0",
            "_model_name": "ProgressStyleModel",
            "_view_count": null,
            "_view_module": "@jupyter-widgets/base",
            "_view_module_version": "1.2.0",
            "_view_name": "StyleView",
            "bar_color": null,
            "description_width": ""
          }
        },
        "9f6fc8d8659f43a687873e6ff803f824": {
          "model_module": "@jupyter-widgets/controls",
          "model_module_version": "1.5.0",
          "model_name": "HTMLModel",
          "state": {
            "_dom_classes": [],
            "_model_module": "@jupyter-widgets/controls",
            "_model_module_version": "1.5.0",
            "_model_name": "HTMLModel",
            "_view_count": null,
            "_view_module": "@jupyter-widgets/controls",
            "_view_module_version": "1.5.0",
            "_view_name": "HTMLView",
            "description": "",
            "description_tooltip": null,
            "layout": "IPY_MODEL_b6edc22a79f54870a8cbbb0f42775a9c",
            "placeholder": "​",
            "style": "IPY_MODEL_f96dd8ffd88944e2baaa89cd443ede27",
            "value": "Downloading https://raw.githubusercontent.com/stanfordnlp/stanza-resources/main/resources_1.9.0.json: "
          }
        },
        "b3f21b75f0d94fc197a8bc157686dbb4": {
          "model_module": "@jupyter-widgets/controls",
          "model_module_version": "1.5.0",
          "model_name": "DescriptionStyleModel",
          "state": {
            "_model_module": "@jupyter-widgets/controls",
            "_model_module_version": "1.5.0",
            "_model_name": "DescriptionStyleModel",
            "_view_count": null,
            "_view_module": "@jupyter-widgets/base",
            "_view_module_version": "1.2.0",
            "_view_name": "StyleView",
            "description_width": ""
          }
        },
        "b6edc22a79f54870a8cbbb0f42775a9c": {
          "model_module": "@jupyter-widgets/base",
          "model_module_version": "1.2.0",
          "model_name": "LayoutModel",
          "state": {
            "_model_module": "@jupyter-widgets/base",
            "_model_module_version": "1.2.0",
            "_model_name": "LayoutModel",
            "_view_count": null,
            "_view_module": "@jupyter-widgets/base",
            "_view_module_version": "1.2.0",
            "_view_name": "LayoutView",
            "align_content": null,
            "align_items": null,
            "align_self": null,
            "border": null,
            "bottom": null,
            "display": null,
            "flex": null,
            "flex_flow": null,
            "grid_area": null,
            "grid_auto_columns": null,
            "grid_auto_flow": null,
            "grid_auto_rows": null,
            "grid_column": null,
            "grid_gap": null,
            "grid_row": null,
            "grid_template_areas": null,
            "grid_template_columns": null,
            "grid_template_rows": null,
            "height": null,
            "justify_content": null,
            "justify_items": null,
            "left": null,
            "margin": null,
            "max_height": null,
            "max_width": null,
            "min_height": null,
            "min_width": null,
            "object_fit": null,
            "object_position": null,
            "order": null,
            "overflow": null,
            "overflow_x": null,
            "overflow_y": null,
            "padding": null,
            "right": null,
            "top": null,
            "visibility": null,
            "width": null
          }
        },
        "f96dd8ffd88944e2baaa89cd443ede27": {
          "model_module": "@jupyter-widgets/controls",
          "model_module_version": "1.5.0",
          "model_name": "DescriptionStyleModel",
          "state": {
            "_model_module": "@jupyter-widgets/controls",
            "_model_module_version": "1.5.0",
            "_model_name": "DescriptionStyleModel",
            "_view_count": null,
            "_view_module": "@jupyter-widgets/base",
            "_view_module_version": "1.2.0",
            "_view_name": "StyleView",
            "description_width": ""
          }
        },
        "ff48e54344024abdab6400f9a1dfc7ca": {
          "model_module": "@jupyter-widgets/controls",
          "model_module_version": "1.5.0",
          "model_name": "HTMLModel",
          "state": {
            "_dom_classes": [],
            "_model_module": "@jupyter-widgets/controls",
            "_model_module_version": "1.5.0",
            "_model_name": "HTMLModel",
            "_view_count": null,
            "_view_module": "@jupyter-widgets/controls",
            "_view_module_version": "1.5.0",
            "_view_name": "HTMLView",
            "description": "",
            "description_tooltip": null,
            "layout": "IPY_MODEL_54694068f7fd4fb3a43ee0c13f513d68",
            "placeholder": "​",
            "style": "IPY_MODEL_b3f21b75f0d94fc197a8bc157686dbb4",
            "value": " 392k/? [00:00&lt;00:00, 6.48MB/s]"
          }
        }
      }
    }
  },
  "nbformat": 4,
  "nbformat_minor": 0
}
